{
 "cells": [
  {
   "cell_type": "markdown",
   "metadata": {},
   "source": [
    "# Creating a simulations of regular and warm winter with a burn-in phase"
   ]
  },
  {
   "cell_type": "markdown",
   "metadata": {},
   "source": [
    "## 1. Imports"
   ]
  },
  {
   "cell_type": "markdown",
   "metadata": {},
   "source": [
    "Import necessary modules and functions for running the simulations.\n",
    "'scripts.run_experiments' and 'utils.biomaker_utils' contain the essential functions\n",
    "and utilities for setting up and executing the simulation experiments."
   ]
  },
  {
   "cell_type": "code",
   "execution_count": null,
   "metadata": {},
   "outputs": [],
   "source": [
    "from scripts.run_experiments import *\n",
    "from utils.biomaker_utils import *"
   ]
  },
  {
   "cell_type": "markdown",
   "metadata": {},
   "source": [
    "## 2. Configuration"
   ]
  },
  {
   "cell_type": "code",
   "execution_count": null,
   "metadata": {},
   "outputs": [],
   "source": [
    "# General\n",
    "USE_WANDB = False # Set to True to use Weights and Biases for logging and visualization\n",
    "MAX_WORKERS = 1 # Number of workers to use for parallel processing (default 1), recommended to keep at 1 due to memory constraints\n",
    "PICKLE_DIR = \"pickles\" # Directory to save the pickles\n",
    "\n",
    "# Burn-in period\n",
    "BURN_IN_FOLDER = \"twenty_year_burn_in\" # Folder name for the burn-in period\n",
    "BURN_IN_CONFIG_NAME = \"twenty_year_burn_in\" # Config name for the burn-in period\n",
    "BURN_IN_YEARS = 20 # Number of years to run the burn-in period\n",
    "BURN_IN_DAYS_PER_YEAR = 365 # Number of days per year for the burn-in period\n",
    "DAYS_IN_BURN_IN = BURN_IN_YEARS * BURN_IN_DAYS_PER_YEAR # Number of days in the burn-in period, used to calculate the burn-in period length where simulations start from.\n",
    "EARLY_EXTINCTION_MONTH_COUNT = 6  # Number of months to count as early extinction, default 6, this is used to early stop a burn-in simulation if the population goes extinct\n",
    "\n",
    "# Simulation period\n",
    "DAYS_PER_YEAR = 365 # Number of days per year for the simulation period\n",
    "SIMULATION_YEARS = 5 # Number of years to run the simulation period\n",
    "\n",
    "# Experiments\n",
    "SEASON_TYPES = [\"warm\", \"cold\"] # Season types for the environment (possible options [\"warm\", \"cold\"]), warm = regular season, cold = cold january season\n",
    "NUM_SIMS = 25 # Number of simulations to run for each experiment (default 25)"
   ]
  },
  {
   "cell_type": "markdown",
   "metadata": {},
   "source": [
    "Because running the full we will change the number of simulations to 1 and the number of years to 1.\n",
    "For the burn in period we will change the number of years to 2. "
   ]
  },
  {
   "cell_type": "code",
   "execution_count": null,
   "metadata": {},
   "outputs": [],
   "source": [
    "BURN_IN_YEARS = 2\n",
    "DAYS_IN_BURN_IN = BURN_IN_YEARS * BURN_IN_DAYS_PER_YEAR\n",
    "NUM_SIMS = 1\n",
    "SIMULATION_YEARS = 1"
   ]
  },
  {
   "cell_type": "markdown",
   "metadata": {},
   "source": [
    "## 3. Configuration Class for simulation seasonal/monthly changes"
   ]
  },
  {
   "cell_type": "markdown",
   "metadata": {},
   "source": [
    "Define the 'SeasonsConfig' class to handle the configuration of seasonal and\n",
    "monthly changes in the simulation environment. This class includes parameters\n",
    "for air and soil diffusion rates, and random slight\n",
    "alterations to simulate natural variability (by default this is turned of, in the experiments we did, we did not end up using this). Additional configuration settings\n",
    "such as nutrient caps, specialization costs, and evaluation criteria are also\n",
    "included in this class."
   ]
  },
  {
   "cell_type": "code",
   "execution_count": null,
   "metadata": {},
   "outputs": [],
   "source": [
    "class SeasonsConfig:\n",
    "    def __init__(self, name, years, days_in_year, january_air_diffusion_rate=0.03, slight_alteration = False, simulation = 0):\n",
    "        self.name = name\n",
    "        self.years = years\n",
    "        self.days_in_year = days_in_year\n",
    "        self.january_air_diffusion_rate = january_air_diffusion_rate\n",
    "        self.simulation = simulation\n",
    "        self.key = jr.PRNGKey(simulation)\n",
    "        self.month_params = {\n",
    "            \"January\": {\n",
    "                \"Season\": \"Winter\",\n",
    "                \"AIR_DIFFUSION_RATE\": self.january_air_diffusion_rate,\n",
    "                \"SOIL_DIFFUSION_RATE\": 0.03,\n",
    "            },\n",
    "            \"February\": {\n",
    "                \"Season\": \"Winter\",\n",
    "                \"AIR_DIFFUSION_RATE\": 0.04,\n",
    "                \"SOIL_DIFFUSION_RATE\": 0.04,\n",
    "            },\n",
    "            \"March\": {\n",
    "                \"Season\": \"Spring\",\n",
    "                \"AIR_DIFFUSION_RATE\": 0.07,\n",
    "                \"SOIL_DIFFUSION_RATE\": 0.07,\n",
    "            },\n",
    "            \"April\": {\n",
    "                \"Season\": \"Spring\",\n",
    "                \"AIR_DIFFUSION_RATE\": 0.075,\n",
    "                \"SOIL_DIFFUSION_RATE\": 0.075,\n",
    "            },\n",
    "            \"May\": {\n",
    "                \"Season\": \"Spring\",\n",
    "                \"AIR_DIFFUSION_RATE\": 0.08,\n",
    "                \"SOIL_DIFFUSION_RATE\": 0.08,\n",
    "            },\n",
    "            \"June\": {\n",
    "                \"Season\": \"Summer\",\n",
    "                \"AIR_DIFFUSION_RATE\": 0.1,\n",
    "                \"SOIL_DIFFUSION_RATE\": 0.1,\n",
    "            },\n",
    "            \"July\": {\n",
    "                \"Season\": \"Summer\",\n",
    "                \"AIR_DIFFUSION_RATE\": 0.11,\n",
    "                \"SOIL_DIFFUSION_RATE\": 0.11,\n",
    "            },\n",
    "            \"August\": {\n",
    "                \"Season\": \"Summer\",\n",
    "                \"AIR_DIFFUSION_RATE\": 0.1,\n",
    "                \"SOIL_DIFFUSION_RATE\": 0.1,\n",
    "            },\n",
    "            \"September\": {\n",
    "                \"Season\": \"Autumn\",\n",
    "                \"AIR_DIFFUSION_RATE\": 0.09,\n",
    "                \"SOIL_DIFFUSION_RATE\": 0.09,\n",
    "            },\n",
    "            \"October\": {\n",
    "                \"Season\": \"Autumn\",\n",
    "                \"AIR_DIFFUSION_RATE\": 0.07,\n",
    "                \"SOIL_DIFFUSION_RATE\": 0.07,\n",
    "            },\n",
    "            \"November\": {\n",
    "                \"Season\": \"Autumn\",\n",
    "                \"AIR_DIFFUSION_RATE\": 0.05,\n",
    "                \"SOIL_DIFFUSION_RATE\": 0.05,\n",
    "            },\n",
    "            \"December\": {\n",
    "                \"Season\": \"Winter\",\n",
    "                \"AIR_DIFFUSION_RATE\": 0.035,\n",
    "                \"SOIL_DIFFUSION_RATE\": 0.035,\n",
    "            },\n",
    "        }\n",
    "        if slight_alteration:\n",
    "            # each months air and soil diffusion rate is slightly altered by multiplying by a random number between 0.9 and 1.1\n",
    "            # normal distribution with mean 1 and std 0.05\n",
    "            for month in self.month_params:\n",
    "                self.month_params[month][\"AIR_DIFFUSION_RATE\"] *= np.random.normal(1, 0.05)\n",
    "                self.month_params[month][\"SOIL_DIFFUSION_RATE\"] *= np.random.normal(1, 0.05)\n",
    "        self.n_frames = int(\n",
    "            self.days_in_year\n",
    "            / len(self.month_params)\n",
    "        )\n",
    "\n",
    "    out_file = \"output/seasons.mp4\" # Output file for the video\n",
    "    ec_id = \"pestilence\"  # @param ['persistence', 'pestilence', 'collaboration', 'sideways']\n",
    "    env_width_type = \"landscape\"  # @param ['wide', 'landscape', 'square', 'petri']\n",
    "    nutrient_cap = np.asarray([25, 25]) # Cap on nutrient levels in the environment\n",
    "    specialize_cost = np.asarray([0.028, 0.028]) # Cost of specialization\n",
    "    max_lifetime = 3650  # 10 years\n",
    "\n",
    "    frame_height = 150\n",
    "\n",
    "    # Set soil_unbalance_limit to 0 to reproduce the original environment. Set it to 1/3 for having self-balancing environments (recommended).\n",
    "    soil_unbalance_limit = 1 / 3  # @param [0, \"1/3\"] {type:\"raw\"}\n",
    "\n",
    "    agent_model = \"minimal\"  # @param ['minimal', 'extended']\n",
    "    mutator_type = \"basic\"  # @param ['basic', 'randomly_adaptive']\n",
    "\n",
    "\n",
    "    # How many unique programs (organisms) are allowed in the simulation.\n",
    "    n_max_programs = 25\n",
    "\n",
    "    # if True, every 50 steps we check whether the agents go extinct. If they did,\n",
    "    # we replace a seed in the environment.\n",
    "    replace_if_extinct = False\n",
    "\n",
    "    # on what FRAME to double speed.\n",
    "    when_to_double_speed = []\n",
    "    # on what FRAME to reset speed.\n",
    "    when_to_reset_speed = []\n",
    "    fps = 30\n",
    "    # zoom_sz affects the size of the image. If this number is not even, the resulting\n",
    "    # video *may* not be supported by all renderers.\n",
    "    zoom_sz = 4\n",
    "\n",
    "    # how many steps per frame we start with. This gets usually doubled many times\n",
    "    # during the simulation.\n",
    "    # In the article, we usually use 2 or 4 as the starting value, sometimes 1.\n",
    "    steps_per_frame = 1\n",
    "\n",
    "    ### Evaluation ###\n",
    "    what_to_evaluate = \"extracted\"  # @param [\"initialization\", \"extracted\"]\n",
    "    n_eval_steps = 100\n",
    "    n_eval_reps = 1\n",
    "    eval_key = jr.PRNGKey(123)"
   ]
  },
  {
   "cell_type": "markdown",
   "metadata": {},
   "source": [
    "## 4. Function for running burn-in phase(s)"
   ]
  },
  {
   "cell_type": "markdown",
   "metadata": {},
   "source": [
    "Implement the 'run_burn_in_simulation' function to execute the burn-in phase \n",
    "for the simulations. This function checks if a burn-in environment already \n",
    "exists as a pickle file and loads it if available. If not, it runs a new \n",
    "burn-in simulation and saves the resulting environment. "
   ]
  },
  {
   "cell_type": "code",
   "execution_count": null,
   "metadata": {},
   "outputs": [],
   "source": [
    "def run_burn_in_simulation(sim):\n",
    "    pickle_path = os.path.join(PICKLE_DIR, f\"burn_in_env_sim_{sim}.pkl\")\n",
    "\n",
    "    # Load the burn-in environment from a pickle file if it exists\n",
    "    if os.path.exists(pickle_path):\n",
    "        with open(pickle_path, \"rb\") as f:\n",
    "            burn_in_env = pickle.load(f)\n",
    "        logger.info(\n",
    "            f\"Loaded burn-in environment from {pickle_path} for simulation {sim}\"\n",
    "        )\n",
    "        return burn_in_env\n",
    "\n",
    "    seed_simulation = sim\n",
    "    while True:\n",
    "        try:\n",
    "            # Configuration for the twenty-year burn-in phase\n",
    "            twenty_year_burn_in = SeasonsConfig(\n",
    "                BURN_IN_CONFIG_NAME,\n",
    "                BURN_IN_YEARS,\n",
    "                BURN_IN_DAYS_PER_YEAR,\n",
    "                simulation=seed_simulation,\n",
    "            )\n",
    "            env, base_config, env_config, agent_logic, mutator, key, programs = (\n",
    "                make_configs(twenty_year_burn_in)\n",
    "            )\n",
    "\n",
    "            programs, burn_in_env, environment_history = run_seasons(\n",
    "                env,\n",
    "                base_config,\n",
    "                env_config,\n",
    "                agent_logic,\n",
    "                mutator,\n",
    "                key,\n",
    "                programs,\n",
    "                days_since_start=0,\n",
    "                folder=BURN_IN_FOLDER,\n",
    "                sim=sim,\n",
    "                fail_on_extinction=True,\n",
    "            )\n",
    "\n",
    "            # Save the burn-in environment to a pickle file\n",
    "            with open(pickle_path, \"wb\") as f:\n",
    "                pickle.dump(burn_in_env, f)\n",
    "            logger.info(\n",
    "                f\"Saved burn-in environment to {pickle_path} for simulation {sim}\"\n",
    "            )\n",
    "\n",
    "            return burn_in_env\n",
    "\n",
    "        except ValueError as e:\n",
    "            logger.warning(f\"Early extinction detected: {e}. Retrying with new seed.\")\n",
    "            seed_simulation += 1"
   ]
  },
  {
   "cell_type": "markdown",
   "metadata": {},
   "source": [
    "## 5. Functions for running experiment simulation(s)"
   ]
  },
  {
   "cell_type": "markdown",
   "metadata": {},
   "source": [
    "The 'run_single_simulation' function sets up and executes a single simulation for either a 'warm' or 'cold' \n",
    "winter month scenario using the pre-configured burn-in environment. The \n",
    "'run_experiments' function iterates over different season types and runs \n",
    "the corresponding simulations."
   ]
  },
  {
   "cell_type": "code",
   "execution_count": null,
   "metadata": {},
   "outputs": [],
   "source": [
    "\n",
    "def run_single_simulation(type_of_january, sim, twenty_year_burn_in_env):\n",
    "    if type_of_january == \"warm\":\n",
    "        experiment_config = SeasonsConfig(\n",
    "            \"warm_winter_month\",\n",
    "            SIMULATION_YEARS,\n",
    "            DAYS_PER_YEAR,\n",
    "            january_air_diffusion_rate=0.07,\n",
    "            simulation=sim,\n",
    "        )\n",
    "    else:\n",
    "        experiment_config = SeasonsConfig(\n",
    "            \"regular_winter_month\", SIMULATION_YEARS, DAYS_PER_YEAR, simulation=sim\n",
    "        )\n",
    "\n",
    "    env, base_config, env_config, agent_logic, mutator, key, programs = make_configs(\n",
    "        experiment_config\n",
    "    )\n",
    "    folder = \"warm_winter_month\" if type_of_january == \"warm\" else \"basic_seasons\"\n",
    "    programs, env, environment_history = run_seasons(\n",
    "        twenty_year_burn_in_env,\n",
    "        base_config,\n",
    "        env_config,\n",
    "        agent_logic,\n",
    "        mutator,\n",
    "        key,\n",
    "        programs,\n",
    "        days_since_start=DAYS_IN_BURN_IN,\n",
    "        folder=folder,\n",
    "        sim=sim,\n",
    "    )\n",
    "\n",
    "    environment_history.save_results(folder, sim)\n",
    "\n",
    "\n",
    "def run_experiments(sim, burn_in_env):\n",
    "    for type_of_january in SEASON_TYPES:\n",
    "        run_single_simulation(type_of_january, sim, burn_in_env)"
   ]
  },
  {
   "cell_type": "markdown",
   "metadata": {},
   "source": [
    "## 6. Function for actual execution of simulation"
   ]
  },
  {
   "cell_type": "markdown",
   "metadata": {},
   "source": [
    "Detail the 'run_seasons' function, which manages the core execution of the \n",
    "seasonal simulations. This function handles the simulation steps for each \n",
    "month and year, recording the environment's state and agent dynamics. It also \n",
    "includes logic for detecting and handling early extinction scenarios, if it is enabled (burn-in environments)."
   ]
  },
  {
   "cell_type": "code",
   "execution_count": null,
   "metadata": {},
   "outputs": [],
   "source": [
    "def run_seasons(\n",
    "    env,\n",
    "    base_config,\n",
    "    env_config,\n",
    "    agent_logic,\n",
    "    mutator,\n",
    "    key,\n",
    "    programs,\n",
    "    days_since_start=0,\n",
    "    folder=\"\",\n",
    "    sim=0,\n",
    "    fail_on_extinction=False,\n",
    "):\n",
    "    environment_history = EnvironmentHistory(\n",
    "        base_config, days_since_start, folder, sim, USE_WANDB\n",
    "    )\n",
    "    frame = start_simulation(env, base_config, env_config)\n",
    "    with media.VideoWriter(\n",
    "        base_config.out_file, shape=frame.shape[:2], fps=base_config.fps, crf=18\n",
    "    ) as video:\n",
    "        step = 0\n",
    "        for year in range(base_config.years):\n",
    "            extinction_counter = 0\n",
    "            for month_name, month_params in base_config.month_params.items():\n",
    "                step, env, programs, env_history = perform_simulation(\n",
    "                    env,\n",
    "                    programs,\n",
    "                    base_config,\n",
    "                    month_params,\n",
    "                    env_config,\n",
    "                    agent_logic,\n",
    "                    mutator,\n",
    "                    key,\n",
    "                    video,\n",
    "                    frame,\n",
    "                    step=step,\n",
    "                    season=f\"{month_name} {year + 1}\",\n",
    "                )\n",
    "                environment_history.add_all(\n",
    "                    env_history, month_params[\"Season\"], month_name, year\n",
    "                )\n",
    "                agent_count = environment_history.return_agent_count_of_last_env()\n",
    "                if agent_count == 0:\n",
    "                    extinction_counter += 1\n",
    "\n",
    "                if agent_count > 0:\n",
    "                    extinction_counter = 0\n",
    "\n",
    "                if extinction_counter >= EARLY_EXTINCTION_MONTH_COUNT:\n",
    "\n",
    "                    if fail_on_extinction:\n",
    "                        raise ValueError(\n",
    "                            f\"Early extinction detected in simulation {sim} at year {year} and month {month_name}\"\n",
    "                        )\n",
    "                    else:\n",
    "                        logger.info(\n",
    "                            f\"Early extinction detected in simulation {sim} at year {year} and month {month_name}\"\n",
    "                        )\n",
    "\n",
    "    return programs, env, environment_history\n",
    "\n"
   ]
  },
  {
   "cell_type": "markdown",
   "metadata": {},
   "source": [
    "## 7. Start pipeline of running burn-in phases and experiments"
   ]
  },
  {
   "cell_type": "markdown",
   "metadata": {},
   "source": [
    "Initialize and execute the entire pipeline, starting with the burn-in phases \n",
    "followed by the main experiments. Burn-in environments are generated or loaded \n",
    "first, and then used as the starting point for the subsequent simulations. \n",
    "The final results are saved and compiled into an output video located at \n",
    "'output/seasons.mp4'."
   ]
  },
  {
   "cell_type": "code",
   "execution_count": null,
   "metadata": {},
   "outputs": [],
   "source": [
    "burn_in_environments = [None] * NUM_SIMS\n",
    "\n",
    "os.makedirs('output', exist_ok=True)\n",
    "# Run burn-in simulations\n",
    "for sim in range(NUM_SIMS):\n",
    "    burn_in_environments[sim] = run_burn_in_simulation(sim)\n",
    "\n",
    "# Run experiments for each simulation\n",
    "for sim in range(NUM_SIMS):\n",
    "    run_experiments(sim, burn_in_environments[sim])\n"
   ]
  },
  {
   "cell_type": "markdown",
   "metadata": {},
   "source": [
    "The result is located under output/seasons.mp4!"
   ]
  }
 ],
 "metadata": {
  "kernelspec": {
   "display_name": "Python 3",
   "language": "python",
   "name": "python3"
  },
  "language_info": {
   "codemirror_mode": {
    "name": "ipython",
    "version": 3
   },
   "file_extension": ".py",
   "mimetype": "text/x-python",
   "name": "python",
   "nbconvert_exporter": "python",
   "pygments_lexer": "ipython3",
   "version": "3.11.7"
  }
 },
 "nbformat": 4,
 "nbformat_minor": 2
}

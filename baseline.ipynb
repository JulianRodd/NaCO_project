{
 "cells": [
  {
   "cell_type": "markdown",
   "metadata": {},
   "source": [
    "# Natural Computing Project - BiomakerCA - Simulating Plant Reproducibility "
   ]
  },
  {
   "cell_type": "markdown",
   "metadata": {},
   "source": [
    "### 1. Overrides"
   ]
  },
  {
   "cell_type": "code",
   "execution_count": 4,
   "metadata": {},
   "outputs": [],
   "source": [
    "# Overriding the default environment logic with a custom one\n",
    "import overrides.env_logic_override as env_override\n",
    "import self_organising_systems.biomakerca.env_logic as env_logic\n",
    "env_logic.process_energy = env_override.process_energy\n",
    "\n",
    "\n",
    "# Overriding the default step maker with a custom one\n",
    "import overrides.step_maker_override as step_maker_override\n",
    "import self_organising_systems.biomakerca.step_maker as step_maker\n",
    "step_maker.step_env = step_maker_override.step_env\n",
    "\n"
   ]
  },
  {
   "cell_type": "markdown",
   "metadata": {},
   "source": [
    "### 2. Imports"
   ]
  },
  {
   "cell_type": "code",
   "execution_count": 2,
   "metadata": {},
   "outputs": [
    {
     "name": "stderr",
     "output_type": "stream",
     "text": [
      "/Library/Frameworks/Python.framework/Versions/3.10/lib/python3.10/site-packages/jax/_src/api_util.py:231: SyntaxWarning: Jitted function has invalid argnames {'config', 'mutator', 'n_steps', 'n_max_programs'} in static_argnames. Function does not take these args.This warning will be replaced by an error after 2022-08-20 at the earliest.\n",
      "  warnings.warn(f\"Jitted function has invalid argnames {invalid_argnames} \"\n"
     ]
    }
   ],
   "source": [
    "import jax.random as jr\n",
    "import mediapy as media\n",
    "from IPython.display import Video\n",
    "from jax import vmap\n",
    "from self_organising_systems.biomakerca import environments as evm\n",
    "from self_organising_systems.biomakerca.agent_logic import BasicAgentLogic\n",
    "from self_organising_systems.biomakerca.mutators import (\n",
    "    BasicMutator, RandomlyAdaptiveMutator)\n",
    "\n",
    "from biomaker_utils import perform_evaluation, perform_simulation, start_simulation\n",
    "from configs.seasons_config import SeasonsConfig\n",
    "\n",
    "import numpy as np\n"
   ]
  },
  {
   "cell_type": "code",
   "execution_count": 4,
   "metadata": {},
   "outputs": [],
   "source": [
    "#@title imports & notebook utilities\n",
    "from self_organising_systems.biomakerca import environments as evm\n",
    "from self_organising_systems.biomakerca.agent_logic import BasicAgentLogic\n",
    "from self_organising_systems.biomakerca.mutators import BasicMutator\n",
    "from self_organising_systems.biomakerca.mutators import RandomlyAdaptiveMutator\n",
    "from self_organising_systems.biomakerca.step_maker import step_env\n",
    "from self_organising_systems.biomakerca.display_utils import zoom\n",
    "from self_organising_systems.biomakerca.custom_ipython_display import display\n",
    "from self_organising_systems.biomakerca.env_logic import ReproduceOp\n",
    "from self_organising_systems.biomakerca.env_logic import env_perform_one_reproduce_op\n",
    "\n",
    "import cv2\n",
    "import numpy as np\n",
    "import jax.random as jr\n",
    "import jax.numpy as jp\n",
    "from jax import vmap\n",
    "from jax import jit\n",
    "import jax\n",
    "import time\n",
    "\n",
    "import tqdm\n",
    "import mediapy as media\n",
    "from functools import partial"
   ]
  },
  {
   "cell_type": "code",
   "execution_count": 5,
   "metadata": {},
   "outputs": [],
   "source": [
    "def pad_text(img, text):\n",
    "  font = cv2.FONT_HERSHEY_SIMPLEX\n",
    "  orgin = (5, 15)\n",
    "  fontScale = 0.5\n",
    "  color = (0, 0, 0)\n",
    "  thickness = 1\n",
    "\n",
    "  # ensure to preserve even size (assumes the input size was even.\n",
    "  new_h = img.shape[0]//15\n",
    "  new_h = new_h if new_h % 2 == 0  else new_h + 1\n",
    "  img = np.concatenate([np.ones([new_h, img.shape[1], img.shape[2]]), img], 0)\n",
    "  img = cv2.putText(img, text, orgin, font, fontScale, color, thickness, cv2.LINE_AA)\n",
    "  return img"
   ]
  },
  {
   "cell_type": "code",
   "execution_count": 6,
   "metadata": {},
   "outputs": [
    {
     "name": "stdout",
     "output_type": "stream",
     "text": [
      "BasicAgentLogic.dsm_num_params = 0\n",
      "BasicAgentLogic.nsl_num_params = 176\n",
      "BasicAgentLogic.denm_num_params = 80\n",
      "BasicAgentLogic.excl_num_params = 41\n",
      "BasicAgentLogic.repr_num_params = 2\n",
      "BasicAgentLogic.num_params = 299\n"
     ]
    }
   ],
   "source": [
    "ec_id = \"pestilence\" #@param ['persistence', 'pestilence', 'collaboration', 'sideways']\n",
    "env_width_type = \"square\" #@param ['wide', 'landscape', 'square', 'petri']\n",
    "soil_unbalance_limit = 0 #@param [0, \"1/3\"] {type:\"raw\"}\n",
    "\n",
    "env_and_config = evm.get_env_and_config(ec_id, width_type=env_width_type)\n",
    "st_env, config = env_and_config\n",
    "config.soil_unbalance_limit = soil_unbalance_limit\n",
    "\n",
    "agent_model = \"minimal\" #@param ['minimal', 'extended']\n",
    "agent_logic = BasicAgentLogic(config, minimal_net=agent_model==\"minimal\")\n",
    "\n",
    "mutator_type = \"basic\" #@param ['basic', 'randomly_adaptive']\n",
    "sd = 1e-2 if mutator_type == \"basic\" and agent_model == \"basic\" else 1e-3\n",
    "mutator = (BasicMutator(sd=sd, change_perc=0.2) if mutator_type == \"basic\"\n",
    "           else RandomlyAdaptiveMutator(init_sd=sd, change_perc=0.2))"
   ]
  },
  {
   "cell_type": "code",
   "execution_count": 7,
   "metadata": {},
   "outputs": [
    {
     "name": "stdout",
     "output_type": "stream",
     "text": [

     ]
    }
   ],
   "source": [
    "base_config = SeasonsConfig()\n",
    "\n",
    "st_env, env_config = evm.get_env_and_config(base_config.ec_id, width_type=base_config.env_width_type)\n",
    "env_config.soil_unbalance_limit = base_config.soil_unbalance_limit\n",
    "env_config.nutrient_cap = np.asarray([20, 20])\n",
    "env_config.specialize_cost = np.asarray([0.030, 0.030])\n",
    "\n",
    "agent_logic = BasicAgentLogic(env_config, minimal_net=base_config.agent_model == \"minimal\")\n",
    "env_config.max_lifetime = 2000\n",
    "\n",
    "sd = 1e-2 if base_config.mutator_type == \"basic\" and base_config.agent_model == \"basic\" else 1e-3\n",
    "mutator = (\n",
    "    BasicMutator(sd=sd, change_perc=0.2)\n",
    "    if base_config.mutator_type == \"basic\"\n",
    "    else RandomlyAdaptiveMutator(init_sd=sd, change_perc=0.2)\n",
    ")\n",
    "\n",
    "print(\"\\n\\nCurrent config:\")\n",
    "print(\"\\n\".join(\"%s: %s\" % item for item in vars(env_config).items()))\n",
    "\n",
    "ku, key = jr.split(base_config.key)\n",
    "programs = vmap(agent_logic.initialize)(jr.split(ku, base_config.n_max_programs))\n",
    "programs = vmap(mutator.initialize)(jr.split(ku, programs.shape[0]), programs)\n",
    "\n",
    "env = st_env\n",
    "\n",
    "file_version = \"v3\"\n",
    "\n",
    "print(base_config.out_file)"
   ]
  },
  {
   "cell_type": "code",
   "execution_count": 6,
   "metadata": {},
   "outputs": [
    {
     "ename": "TypeError",
     "evalue": "perform_simulation() missing 1 required positional argument: 'video'",
     "output_type": "error",
     "traceback": [
      "\u001b[0;31m---------------------------------------------------------------------------\u001b[0m",
      "\u001b[0;31mTypeError\u001b[0m                                 Traceback (most recent call last)",
      "Cell \u001b[0;32mIn[6], line 1\u001b[0m\n\u001b[0;32m----> 1\u001b[0m \u001b[43mperform_simulation\u001b[49m\u001b[43m(\u001b[49m\u001b[43menv\u001b[49m\u001b[43m,\u001b[49m\u001b[43m \u001b[49m\u001b[43mprograms\u001b[49m\u001b[43m,\u001b[49m\u001b[43m \u001b[49m\u001b[43mbase_config\u001b[49m\u001b[43m,\u001b[49m\u001b[43m \u001b[49m\u001b[43menv_config\u001b[49m\u001b[43m,\u001b[49m\u001b[43m \u001b[49m\u001b[43magent_logic\u001b[49m\u001b[43m,\u001b[49m\u001b[43m \u001b[49m\u001b[43mmutator\u001b[49m\u001b[43m,\u001b[49m\u001b[43m \u001b[49m\u001b[43mkey\u001b[49m\u001b[43m)\u001b[49m\n\u001b[1;32m      3\u001b[0m Video(base_config\u001b[38;5;241m.\u001b[39mout_file)\n",
      "\u001b[0;31mTypeError\u001b[0m: perform_simulation() missing 1 required positional argument: 'video'"
     ]
    }
   ],
   "source": [
    "### 4. Performing Basic Simulation"
   ]
  },
  {
   "cell_type": "code",
   "execution_count": 4,
   "metadata": {},
   "outputs": [],
   "source": [
    "### 4. Performing Basic Simulation"
   ]
  },
  {
   "cell_type": "code",
   "execution_count": 5,
   "metadata": {},
   "outputs": [],
   "source": [
    "# spring_agent_logic = agent_logic\n",
    "\n",
    "# frame = start_simulation(env, base_config, env_config)\n",
    "# with media.VideoWriter(\n",
    "# \tbase_config.out_file, shape=frame.shape[:2], fps=base_config.fps, crf=18\n",
    "# ) as video:\n",
    "# \tperform_simulation(\n",
    "# \t\tenv, programs, base_config, env_config, spring_agent_logic, mutator, key, video, frame\n",
    "# \t)\n",
    "\n",
    "# Video(base_config.out_file)"
   ]
  },
  {
   "cell_type": "code",
   "execution_count": 6,
   "metadata": {},
   "outputs": [],
   "source": [
    "# perform_evaluation(env, programs, st_env, env_config, agent_logic, mutator, base_config)"
   ]
  },
  {
   "cell_type": "markdown",
   "metadata": {},
   "source": [
    "### 5. Simulating Seasons"
   ]
  },
  {
   "cell_type": "code",
   "execution_count": 7,
   "metadata": {},
   "outputs": [],
   "source": [
    "APPEND_ALL_SEASONS_IN_ONE_VIDEO = True"
   ]
  },
  {
   "cell_type": "markdown",
   "metadata": {},
   "source": [
    "#### Seasons!"
   ]
  },
  {
   "cell_type": "code",
   "execution_count": 8,
   "metadata": {},
   "outputs": [],
   "source": [
    "## Examples for modifying the config\n",
    "## Uncomment relevant lines or do like them.\n",
    "\n",
    "## Regardless, to trigger the recomputation of step_env and similar,\n",
    "## config needs to be a new object! So, first, we create a new copy.\n",
    "import copy\n",
    "config = copy.copy(config)\n",
    "\n",
    "## Change simple isolated parameters (most of them)\n",
    "# config.struct_integrity_cap = 100\n",
    "# config.max_lifetime = 500\n",
    "## Vectors can be modified either by writing new vectors:\n",
    "# config.dissipation_per_step = jp.array([0.02, 0.02])\n",
    "## Or by multiplying previous values. Note that they are immutable!\n",
    "# config.dissipation_per_step = config.dissipation_per_step * 2\n",
    "\n",
    "## agent_state_size is trickier, because it influences env_state_size.\n",
    "## So you can either create a new config:\n",
    "## Note that you would have to insert all values that you don't want to take\n",
    "## default initializations.\n",
    "# config = evm.EnvConfig(agent_state_size=4)\n",
    "## Or you can just modify env_state_size as well.\n",
    "## (env_state_size = agent_state_size + 4) for now.\n",
    "# config.agent_state_size = 4\n",
    "# config.env_state_size = config.agent_state_size + 4\n"
   ]
  },
  {
   "cell_type": "code",
   "execution_count": 9,
   "metadata": {},
   "outputs": [
    {
     "name": "stdout",
     "output_type": "stream",
     "text": [
      "Traced<ShapedArray(float32[])>with<DynamicJaxprTrace(level=1/0)>\n",
      "Traced<ShapedArray(float32[])>with<DynamicJaxprTrace(level=1/0)>\n"
     ]
    },
    {
     "name": "stderr",
     "output_type": "stream",
     "text": [
      "  0%|          | 0/125 [00:00<?, ?it/s]/Library/Frameworks/Python.framework/Versions/3.10/lib/python3.10/site-packages/jax/_src/ops/scatter.py:96: FutureWarning: scatter inputs have incompatible types: cannot safely cast value from dtype=int32 to dtype=uint32 with jax_numpy_dtype_promotion='standard'. In future JAX releases this will result in an error.\n",
      "  warnings.warn(\n",
      "2024-04-30 14:40:03.894055: E external/xla/xla/service/slow_operation_alarm.cc:133] The operation took 1.003301s\n",
      "Constant folding an instruction is taking > 1s:\n",
      "\n",
      "  %reduce.85 = f32[72,128,9,6]{3,2,1,0} reduce(f32[1,72,128,9,6]{4,3,2,1,0} %broadcast.30, f32[] %constant.155), dimensions={0}, to_apply=%region_125.7136, metadata={op_name=\"jit(step_env)/jit(main)/reduce_sum[axes=(0,)]\" source_file=\"/Users/laurastritzel/Desktop/Radboud/semester 2/Natural Computing/final project/NaCO_project/overrides/step_maker_override.py\" source_line=179}\n",
      "\n",
      "This isn't necessarily a bug; constant-folding is inherently a trade-off between compilation time and speed at runtime. XLA has some guards that attempt to keep constant folding from taking too long, but fundamentally you'll always be able to come up with an input program that takes a long time.\n",
      "\n",
      "If you'd like to file a bug, run with envvar XLA_FLAGS=--xla_dump_to=/tmp/foo and attach the results.\n",
      "100%|██████████| 125/125 [00:33<00:00,  3.76it/s]\n"
     ]
    },
    {
     "data": {
      "text/html": [
       "<video src=\"video_seasons_no_doubles.mp4\" controls  >\n",
       "      Your browser does not support the <code>video</code> element.\n",
       "    </video>"
      ],
      "text/plain": [
       "<IPython.core.display.Video object>"
      ]
     },
     "execution_count": 8,
     "metadata": {},
     "output_type": "execute_result"
    }
   ],
   "source": [
    "if not APPEND_ALL_SEASONS_IN_ONE_VIDEO:\n",
    "\tbase_config.out_file = f\"spring{file_version}.mp4\"\n",
    "\n",
    "frame = start_simulation(env, base_config, env_config)\n",
    "with media.VideoWriter(\n",
    "\tbase_config.out_file, shape=frame.shape[:2], fps=base_config.fps, crf=18\n",
    ") as video:\n",
    "\t# Spring 1\n",
    "\tbase_config.AIR_DIFFUSION_RATE = 0.09\n",
    "\tbase_config.SOIL_DIFFUSION_RATE = 0.09\n",
    "\n",
    "\tstep, env, programs = perform_simulation(\n",
    "\t\tenv, programs, base_config, env_config, agent_logic, mutator, key, video, frame, season=\"Spring 1\"\n",
    "\t)\n",
    "\n",
    "\t# # Summer 1\n",
    "\t# base_config.AIR_DIFFUSION_RATE = 0.1\n",
    "\t# base_config.SOIL_DIFFUSION_RATE = 0.1\n",
    "\n",
    "\t# step, env, programs = perform_simulation(\n",
    "\t# \tenv, programs, base_config, env_config, agent_logic, mutator, key, video, frame, step = step if APPEND_ALL_SEASONS_IN_ONE_VIDEO else 0, season=\"Summer 1\"\n",
    "\t# )\n",
    "\n",
    "\t# # Autumn 1\n",
    "\t# base_config.AIR_DIFFUSION_RATE = 0.04\n",
    "\t# base_config.SOIL_DIFFUSION_RATE = 0.04\n",
    "\n",
    "\t# step, env, programs = perform_simulation(\n",
    "\t# \tenv, programs, base_config, env_config, agent_logic, mutator, key, video, frame, step = step if APPEND_ALL_SEASONS_IN_ONE_VIDEO else 0, season=\"Autumn 1\"\n",
    "\t# )\n",
    "\n",
    "\t# # Winter 1\n",
    "\t# base_config.AIR_DIFFUSION_RATE = 0.01\n",
    "\t# base_config.SOIL_DIFFUSION_RATE = 0.01\n",
    "\n",
    "\t# step, env, programs = perform_simulation(\n",
    "\t# \tenv, programs, base_config, env_config, agent_logic, mutator, key, video, frame, step = step if APPEND_ALL_SEASONS_IN_ONE_VIDEO else 0, season=\"Winter 1\"\n",
    "\t# )\n",
    "\n",
    "\t# # Spring 2\n",
    "\t# base_config.AIR_DIFFUSION_RATE = 0.09\n",
    "\t# base_config.SOIL_DIFFUSION_RATE = 0.09\n",
    "\n",
    "\t# step, env, programs = perform_simulation(\n",
    "\t# \tenv, programs, base_config, env_config, agent_logic, mutator, key, video, frame, step = step if APPEND_ALL_SEASONS_IN_ONE_VIDEO else 0, season=\"Spring 2\"\n",
    "\t# )\n",
    "\n",
    "\t# # Summer 2\n",
    "\t# base_config.AIR_DIFFUSION_RATE = 0.1\n",
    "\t# base_config.SOIL_DIFFUSION_RATE = 0.1\n",
    "\n",
    "\t# step, env, programs = perform_simulation(\n",
    "\t# \tenv, programs, base_config, env_config, agent_logic, mutator, key, video, frame, step = step if APPEND_ALL_SEASONS_IN_ONE_VIDEO else 0, season=\"Summer 2\"\n",
    "\t# )\n",
    "\n",
    "\t# # Autumn 2\n",
    "\t# base_config.AIR_DIFFUSION_RATE = 0.04\n",
    "\t# base_config.SOIL_DIFFUSION_RATE = 0.04\n",
    "\n",
    "\t# step, env, programs = perform_simulation(\n",
    "\t# \tenv, programs, base_config, env_config, agent_logic, mutator, key, video, frame, step = step if APPEND_ALL_SEASONS_IN_ONE_VIDEO else 0, season=\"Autumn 2\"\n",
    "\t# )\n",
    "\n",
    "\t# # Winter 2\n",
    "\t# base_config.AIR_DIFFUSION_RATE = 0.01\n",
    "\t# base_config.SOIL_DIFFUSION_RATE = 0.01\n",
    "\n",
    "\t# step, env, programs = perform_simulation(\n",
    "\t# \tenv, programs, base_config, env_config, agent_logic, mutator, key, video, frame, step = step if APPEND_ALL_SEASONS_IN_ONE_VIDEO else 0, season=\"Winter 2\"\n",
    "\t# )\n",
    "\n",
    "\n",
    "# if not APPEND_ALL_SEASONS_IN_ONE_VIDEO:\n",
    "Video(base_config.out_file)"
   ]
  },
  {
   "cell_type": "code",
   "execution_count": 18,
   "metadata": {},
   "outputs": [
    {
     "name": "stdout",
     "output_type": "stream",
     "text": [
      "Count of unspecialized in grid:  38842\n",
      "Count of roots in grid:  0\n",
      "Count of leafs in grid:  0\n",
      "Count of flowers in grid:  0\n"
     ]
    }
   ],
   "source": [
    "agentTypes = env.state_grid\n",
    "\n",
    "# Count of each type of agent\n",
    "zeros = np.count_nonzero(agentTypes == 0) # unspecialized\n",
    "ones = np.count_nonzero(agentTypes == 1) # root\n",
    "twos = np.count_nonzero(agentTypes == 2) # leaf\n",
    "threes = np.count_nonzero(agentTypes == 3) # flower\n",
    "\n",
    "print(\"Count of unspecialized in grid: \", zeros)\n",
    "print(\"Count of roots in grid: \", ones)\n",
    "print(\"Count of leafs in grid: \", twos)\n",
    "print(\"Count of flowers in grid: \", threes)\n"
   ]
  },
  {
   "cell_type": "code",
   "execution_count": 11,
   "metadata": {},
   "outputs": [
    {
     "name": "stdout",
     "output_type": "stream",
     "text": [
      "Extracted 3 programs.\n",
      "Took 18.060476779937744 seconds\n",
      "Total number of agents [14091] 14091.0 0.0\n",
      "Extinction events [0] 0.0 0.0\n",
      "Number of flowers:  0\n",
      "Count of unspecialized in grid:  8579\n",
      "Count of roots in grid:  322\n",
      "Count of leafs in grid:  315\n",
      "Count of flowers in grid:  0\n"
     ]
    }
   ],
   "source": [
    "perform_evaluation(env, programs, st_env, env_config, agent_logic, mutator, base_config)"
   ]
  },
  {
   "cell_type": "code",
   "execution_count": null,
   "metadata": {},
   "outputs": [],
   "source": []
  },
  {
   "cell_type": "code",
   "execution_count": 16,
   "metadata": {},
   "outputs": [
    {
     "name": "stderr",
     "output_type": "stream",
     "text": [
      "100%|██████████| 125/125 [00:22<00:00,  5.47it/s]\n",
      "100%|██████████| 125/125 [00:23<00:00,  5.27it/s]\n",
      "100%|██████████| 125/125 [00:25<00:00,  4.96it/s]\n"
     ]
    },
    {
     "data": {
      "text/html": [
       "<video src=\"video_seasons_no_doubles.mp4\" controls  >\n",
       "      Your browser does not support the <code>video</code> element.\n",
       "    </video>"
      ],
      "text/plain": [
       "<IPython.core.display.Video object>"
      ]
     },
     "execution_count": 16,
     "metadata": {},
     "output_type": "execute_result"
    }
   ],
   "source": [
    "if not APPEND_ALL_SEASONS_IN_ONE_VIDEO:\n",
    "\tbase_config.out_file = f\"spring{file_version}.mp4\"\n",
    "\n",
    "frame = start_simulation(env, base_config, env_config)\n",
    "with media.VideoWriter(\n",
    "\tbase_config.out_file, shape=frame.shape[:2], fps=base_config.fps, crf=18\n",
    ") as video:\n",
    "\t# Spring 1\n",
    "\tbase_config.AIR_DIFFUSION_RATE = 0.07\n",
    "\tbase_config.SOIL_DIFFUSION_RATE = 0.07\n",
    "\n",
    "\tstep, env, programs = perform_simulation(\n",
    "\t\tenv, programs, base_config, env_config, agent_logic, mutator, key, video, frame, season=\"Spring 1\"\n",
    "\t)\n",
    "\n",
    "\t# Summer 1\n",
    "\tbase_config.AIR_DIFFUSION_RATE = 0.1\n",
    "\tbase_config.SOIL_DIFFUSION_RATE = 0.1\n",
    "\n",
    "\tstep, env, programs = perform_simulation(\n",
    "\t\tenv, programs, base_config, env_config, agent_logic, mutator, key, video, frame, step = step if APPEND_ALL_SEASONS_IN_ONE_VIDEO else 0, season=\"Summer 1\"\n",
    "\t)\n",
    "\n",
    "\t# Autumn 1\n",
    "\tbase_config.AIR_DIFFUSION_RATE = 0.04\n",
    "\tbase_config.SOIL_DIFFUSION_RATE = 0.04\n",
    "\n",
    "\tstep, env, programs = perform_simulation(\n",
    "\t\tenv, programs, base_config, env_config, agent_logic, mutator, key, video, frame, step = step if APPEND_ALL_SEASONS_IN_ONE_VIDEO else 0, season=\"Autumn 1\"\n",
    "\t)\n",
    "\n",
    "\t# # Winter 1\n",
    "\t# base_config.AIR_DIFFUSION_RATE = 0.01\n",
    "\t# base_config.SOIL_DIFFUSION_RATE = 0.01\n",
    "\n",
    "\t# step, env, programs = perform_simulation(\n",
    "\t# \tenv, programs, base_config, env_config, agent_logic, mutator, key, video, frame, step = step if APPEND_ALL_SEASONS_IN_ONE_VIDEO else 0, season=\"Winter 1\"\n",
    "\t# )\n",
    "\n",
    "\t# # Spring 2\n",
    "\t# base_config.AIR_DIFFUSION_RATE = 0.09\n",
    "\t# base_config.SOIL_DIFFUSION_RATE = 0.09\n",
    "\n",
    "\t# step, env, programs = perform_simulation(\n",
    "\t# \tenv, programs, base_config, env_config, agent_logic, mutator, key, video, frame, step = step if APPEND_ALL_SEASONS_IN_ONE_VIDEO else 0, season=\"Spring 2\"\n",
    "\t# )\n",
    "\n",
    "\t# # Summer 2\n",
    "\t# base_config.AIR_DIFFUSION_RATE = 0.1\n",
    "\t# base_config.SOIL_DIFFUSION_RATE = 0.1\n",
    "\n",
    "\t# step, env, programs = perform_simulation(\n",
    "\t# \tenv, programs, base_config, env_config, agent_logic, mutator, key, video, frame, step = step if APPEND_ALL_SEASONS_IN_ONE_VIDEO else 0, season=\"Summer 2\"\n",
    "\t# )\n",
    "\n",
    "\t# # Autumn 2\n",
    "\t# base_config.AIR_DIFFUSION_RATE = 0.04\n",
    "\t# base_config.SOIL_DIFFUSION_RATE = 0.04\n",
    "\n",
    "\t# step, env, programs = perform_simulation(\n",
    "\t# \tenv, programs, base_config, env_config, agent_logic, mutator, key, video, frame, step = step if APPEND_ALL_SEASONS_IN_ONE_VIDEO else 0, season=\"Autumn 2\"\n",
    "\t# )\n",
    "\n",
    "\t# # Winter 2\n",
    "\t# base_config.AIR_DIFFUSION_RATE = 0.01\n",
    "\t# base_config.SOIL_DIFFUSION_RATE = 0.01\n",
    "\n",
    "\t# step, env, programs = perform_simulation(\n",
    "\t# \tenv, programs, base_config, env_config, agent_logic, mutator, key, video, frame, step = step if APPEND_ALL_SEASONS_IN_ONE_VIDEO else 0, season=\"Winter 2\"\n",
    "\t# )\n",
    "\n",
    "# if not APPEND_ALL_SEASONS_IN_ONE_VIDEO:\n",
    "Video(base_config.out_file)"
   ]
  },
  {
   "cell_type": "code",
   "execution_count": 17,
   "metadata": {},
   "outputs": [
    {
     "name": "stdout",
     "output_type": "stream",
     "text": [
      "Extracted 3 programs.\n",
      "Took 18.52941083908081 seconds\n",
      "Total number of agents [14091] 14091.0 0.0\n",
      "Extinction events [0] 0.0 0.0\n",
      "Number of flowers:  0\n",
      "Count of unspecialized in grid:  7635\n",
      "Count of roots in grid:  835\n",
      "Count of leafs in grid:  746\n",
      "Count of flowers in grid:  0\n"
     ]
    }
   ],
   "source": [
    "perform_evaluation(env, programs, st_env, env_config, agent_logic, mutator, base_config)"
   ]
  },
  {
   "cell_type": "code",
   "execution_count": 10,
   "metadata": {},
   "outputs": [
    {
     "data": {
      "text/html": [
       "<video src=\"video.mp4\" controls  >\n",
       "      Your browser does not support the <code>video</code> element.\n",
       "    </video>"
      ],
      "text/plain": [
       "<IPython.core.display.Video object>"
      ]
     },
     "execution_count": 10,
     "metadata": {},
     "output_type": "execute_result"
    }
   ],
   "source": [
    "from IPython.display import Video\n",
    "\n",
    "Video(out_file)"
   ]
  },
  {
   "cell_type": "code",
   "execution_count": 11,
   "metadata": {},
   "outputs": [],
   "source": [
    "def count_agents_f(env, etd):\n",
    "  return etd.is_agent_fn(env.type_grid).sum()\n",
    "\n",
    "@partial(jit, static_argnames=[\"config\", \"agent_logic\", \"mutator\", \"n_steps\", \"n_max_programs\"])\n",
    "def evaluate_biome(key, st_env, config, agent_logic, mutator, n_steps,\n",
    "                   init_program=None, n_max_programs=128):\n",
    "  def body_f(i, carry):\n",
    "    key, env, programs, tot_agents_n = carry\n",
    "    ku, key = jr.split(key)\n",
    "\n",
    "    env, programs = step_env(\n",
    "        ku, env, config, agent_logic, programs, do_reproduction=True,\n",
    "          mutate_programs=True, mutator=mutator)\n",
    "\n",
    "    tot_agents_n += count_agents_f(env, config.etd)\n",
    "    return key, env, programs, tot_agents_n\n",
    "\n",
    "  if init_program is None:\n",
    "    ku, key = jr.split(key)\n",
    "    programs = vmap(agent_logic.initialize)(jr.split(ku, n_max_programs))\n",
    "    ku, key = jr.split(key)\n",
    "    programs = vmap(mutator.initialize)(jr.split(ku, programs.shape[0]), programs)\n",
    "  else:\n",
    "    programs = jp.repeat(init_program[None, :], n_max_programs, axis=0)\n",
    "\n",
    "  key, env, programs, tot_agents_n = jax.lax.fori_loop(\n",
    "      0, n_steps, body_f, (key, st_env, programs, 0))\n",
    "\n",
    "  # check whether they got extinct:\n",
    "  is_extinct = (count_agents_f(env, config.etd) == 0).astype(jp.int32)\n",
    "  return tot_agents_n, is_extinct"
   ]
  },
  {
   "cell_type": "code",
   "execution_count": 12,
   "metadata": {},
   "outputs": [
    {
     "name": "stderr",
     "output_type": "stream",
     "text": [
      "/home/janneke/anaconda3/envs/NaCo3.10/lib/python3.10/site-packages/jax/_src/ops/scatter.py:96: FutureWarning: scatter inputs have incompatible types: cannot safely cast value from dtype=int32 to dtype=uint32 with jax_numpy_dtype_promotion='standard'. In future JAX releases this will result in an error.\n",
      "  warnings.warn(\n",
      "2024-04-19 16:01:25.475131: E external/xla/xla/service/slow_operation_alarm.cc:65] Constant folding an instruction is taking > 1s:\n",
      "\n",
      "  %reduce.133 = f32[3,72,72,9,6]{4,3,2,1,0} reduce(f32[3,1,72,72,9,6]{5,4,3,2,1,0} %broadcast.1479, f32[] %constant.387), dimensions={1}, to_apply=%region_130.5960, metadata={op_name=\"jit(<unnamed function>)/jit(main)/vmap(jit(evaluate_biome))/while/body/jit(step_env)/reduce_sum[axes=(1,)]\" source_file=\"/tmp/ipykernel_4692/1170826805.py\" source_line=11}\n",
      "\n",
      "This isn't necessarily a bug; constant-folding is inherently a trade-off between compilation time and speed at runtime. XLA has some guards that attempt to keep constant folding from taking too long, but fundamentally you'll always be able to come up with an input program that takes a long time.\n",
      "\n",
      "If you'd like to file a bug, run with envvar XLA_FLAGS=--xla_dump_to=/tmp/foo and attach the results.\n",
      "2024-04-19 16:01:26.580198: E external/xla/xla/service/slow_operation_alarm.cc:133] The operation took 2.105194692s\n",
      "Constant folding an instruction is taking > 1s:\n",
      "\n",
      "  %reduce.133 = f32[3,72,72,9,6]{4,3,2,1,0} reduce(f32[3,1,72,72,9,6]{5,4,3,2,1,0} %broadcast.1479, f32[] %constant.387), dimensions={1}, to_apply=%region_130.5960, metadata={op_name=\"jit(<unnamed function>)/jit(main)/vmap(jit(evaluate_biome))/while/body/jit(step_env)/reduce_sum[axes=(1,)]\" source_file=\"/tmp/ipykernel_4692/1170826805.py\" source_line=11}\n",
      "\n",
      "This isn't necessarily a bug; constant-folding is inherently a trade-off between compilation time and speed at runtime. XLA has some guards that attempt to keep constant folding from taking too long, but fundamentally you'll always be able to come up with an input program that takes a long time.\n",
      "\n",
      "If you'd like to file a bug, run with envvar XLA_FLAGS=--xla_dump_to=/tmp/foo and attach the results.\n",
      "2024-04-19 16:01:28.580557: E external/xla/xla/service/slow_operation_alarm.cc:65] Constant folding an instruction is taking > 2s:\n",
      "\n",
      "  %reduce.145 = f32[3,72,72,9,6]{4,3,2,1,0} reduce(f32[3,1,72,72,9,6]{5,4,3,2,1,0} %broadcast.1479, f32[] %constant.387), dimensions={1}, to_apply=%region_126.5944, metadata={op_name=\"jit(<unnamed function>)/jit(main)/vmap(jit(evaluate_biome))/while/body/jit(step_env)/reduce_sum[axes=(1,)]\" source_file=\"/tmp/ipykernel_4692/1170826805.py\" source_line=11}\n",
      "\n",
      "This isn't necessarily a bug; constant-folding is inherently a trade-off between compilation time and speed at runtime. XLA has some guards that attempt to keep constant folding from taking too long, but fundamentally you'll always be able to come up with an input program that takes a long time.\n",
      "\n",
      "If you'd like to file a bug, run with envvar XLA_FLAGS=--xla_dump_to=/tmp/foo and attach the results.\n",
      "2024-04-19 16:01:28.656964: E external/xla/xla/service/slow_operation_alarm.cc:133] The operation took 2.076507892s\n",
      "Constant folding an instruction is taking > 2s:\n",
      "\n",
      "  %reduce.145 = f32[3,72,72,9,6]{4,3,2,1,0} reduce(f32[3,1,72,72,9,6]{5,4,3,2,1,0} %broadcast.1479, f32[] %constant.387), dimensions={1}, to_apply=%region_126.5944, metadata={op_name=\"jit(<unnamed function>)/jit(main)/vmap(jit(evaluate_biome))/while/body/jit(step_env)/reduce_sum[axes=(1,)]\" source_file=\"/tmp/ipykernel_4692/1170826805.py\" source_line=11}\n",
      "\n",
      "This isn't necessarily a bug; constant-folding is inherently a trade-off between compilation time and speed at runtime. XLA has some guards that attempt to keep constant folding from taking too long, but fundamentally you'll always be able to come up with an input program that takes a long time.\n",
      "\n",
      "If you'd like to file a bug, run with envvar XLA_FLAGS=--xla_dump_to=/tmp/foo and attach the results.\n"
     ]
    },
    {
     "name": "stdout",
     "output_type": "stream",
     "text": [
      "Took 63.143229722976685 seconds\n",
      "Total number of agents [19166 11467  2939] 11190.667 6627.526\n",
      "Extinction events [0 0 0] 0.0 0.0\n"
     ]
    }
   ],
   "source": [
    "what_to_evaluate = \"initialization\" # @param [\"initialization\", \"extracted\"]\n",
    "\n",
    "key = jr.PRNGKey(123)\n",
    "\n",
    "n_steps = 100\n",
    "n_reps = 3\n",
    "\n",
    "if what_to_evaluate == \"initialization\":\n",
    "  init_programs = None\n",
    "else:\n",
    "  # Extract a living program from the final environment.\n",
    "  aid_flat = env.agent_id_grid.flatten()\n",
    "  is_agent_flat = evm.is_agent_fn(env.type_grid).flatten().astype(jp.float32)\n",
    "  n_alive_per_id = jax.ops.segment_sum(is_agent_flat, aid_flat, num_segments=N_MAX_PROGRAMS)\n",
    "  alive_programs = programs[n_alive_per_id>0]\n",
    "  print(\"Extracted {} programs.\".format(alive_programs.shape[0]))\n",
    "  assert alive_programs.shape[0] >= n_reps, \"Not enough alive programs found.\"\n",
    "\n",
    "  init_programs = alive_programs[:n_reps]\n",
    "\n",
    "\n",
    "t_st = time.time()\n",
    "key, ku = jr.split(key)\n",
    "b_tot_agents_n, b_is_extinct = jit(vmap(partial(\n",
    "    evaluate_biome, st_env=st_env, config=config, agent_logic=agent_logic,\n",
    "    mutator=mutator, n_steps=n_steps)))(jr.split(ku, n_reps), init_program=init_programs)\n",
    "print(\"Took\", time.time()-t_st, \"seconds\")\n",
    "print(\"Total number of agents\", b_tot_agents_n, b_tot_agents_n.mean(), b_tot_agents_n.std())\n",
    "print(\"Extinction events\", b_is_extinct, b_is_extinct.mean(), b_is_extinct.std())"
   ]
  }
 ],
 "metadata": {
  "kernelspec": {
   "display_name": "NaCo3.10",
   "language": "python",
   "name": "python3"
  },
  "language_info": {
   "codemirror_mode": {
    "name": "ipython",
    "version": 3
   },
   "file_extension": ".py",
   "mimetype": "text/x-python",
   "name": "python",
   "nbconvert_exporter": "python",
   "pygments_lexer": "ipython3",
   "version": "3.10.14"
  }
 },
 "nbformat": 4,
 "nbformat_minor": 2
}

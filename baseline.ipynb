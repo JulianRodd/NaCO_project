{
 "cells": [
  {
   "cell_type": "code",
   "execution_count": 1,
   "metadata": {},
   "outputs": [],
   "source": [
    "import jax.random as jr\n",
    "from IPython.display import Video\n",
    "from jax import vmap\n",
    "from self_organising_systems.biomakerca import environments as evm\n",
    "from self_organising_systems.biomakerca.agent_logic import BasicAgentLogic\n",
    "from self_organising_systems.biomakerca.mutators import (\n",
    "    BasicMutator, RandomlyAdaptiveMutator)\n",
    "\n",
    "from biomaker_utils import perform_evaluation, perform_simulation\n",
    "from configs.base_config import BaselineConfig"
   ]
  },
  {
   "cell_type": "code",
   "execution_count": 2,
   "metadata": {},
   "outputs": [
    {
     "name": "stdout",
     "output_type": "stream",
     "text": [
      "BasicAgentLogic.dsm_num_params = 0\n",
      "BasicAgentLogic.nsl_num_params = 176\n",
      "BasicAgentLogic.denm_num_params = 80\n",
      "BasicAgentLogic.excl_num_params = 41\n",
      "BasicAgentLogic.repr_num_params = 2\n",
      "BasicAgentLogic.num_params = 299\n",
      "Current config:\n",
      "agent_state_size: 2\n",
      "etd: DefaultTypeDef: {materials_list: ['VOID', 'AIR', 'EARTH', 'IMMOVABLE', 'SUN', 'OUT_OF_BOUNDS'], types: {'VOID': 0, 'AIR': 1, 'EARTH': 2, 'IMMOVABLE': 3, 'SUN': 4, 'OUT_OF_BOUNDS': 5, 'AGENT_UNSPECIALIZED': 6, 'AGENT_ROOT': 7, 'AGENT_LEAF': 8, 'AGENT_FLOWER': 9}, specialization_idxs: {'AGENT_UNSPECIALIZED': 0, 'AGENT_ROOT': 1, 'AGENT_LEAF': 2, 'AGENT_FLOWER': 3}, agent_types: [6 7 8 9], intangible_mats: [0 1], gravity_mats: [2 6 7 8 9], structural_mats: [6 7 8 9], propagate_structure_mats: [2 3 6 7 8 9], agent_spawnable_mats: [0 1 2], structure_decay_mats: [-1 -1  1  0 -1 -1  5  5  5  5], aging_mats: [6 7 8 9], dissipation_rate_per_spec: [[0.5 0.5],  [1.  1. ],  [1.  1. ],  [1.2 1.2]]}\n",
      "env_state_size: 6\n",
      "struct_integrity_cap: 200\n",
      "absorbtion_amounts: [0.25 0.25]\n",
      "dissipation_per_step: [0.01 0.01]\n",
      "spawn_cost: [0.75 0.75]\n",
      "reproduce_cost: [1. 1.]\n",
      "specialize_cost: [0.02 0.02]\n",
      "reproduce_min_dist: 15\n",
      "reproduce_max_dist: 35\n",
      "n_reproduce_per_step: 2\n",
      "nutrient_cap: [10. 10.]\n",
      "material_nutrient_cap: [10. 10.]\n",
      "max_lifetime: 10000\n",
      "soil_unbalance_limit: 0\n"
     ]
    }
   ],
   "source": [
    "base_config = BaselineConfig()\n",
    "\n",
    "st_env, env_config = evm.get_env_and_config(base_config.ec_id, width_type=base_config.env_width_type)\n",
    "env_config.soil_unbalance_limit = base_config.soil_unbalance_limit\n",
    "\n",
    "agent_logic = BasicAgentLogic(env_config, minimal_net=base_config.agent_model == \"minimal\")\n",
    "\n",
    "sd = 1e-2 if base_config.mutator_type == \"basic\" and base_config.agent_model == \"basic\" else 1e-3\n",
    "mutator = (\n",
    "    BasicMutator(sd=sd, change_perc=0.2)\n",
    "    if base_config.mutator_type == \"basic\"\n",
    "    else RandomlyAdaptiveMutator(init_sd=sd, change_perc=0.2)\n",
    ")\n",
    "\n",
    "print(\"Current config:\")\n",
    "print(\"\\n\".join(\"%s: %s\" % item for item in vars(env_config).items()))\n",
    "\n",
    "ku, key = jr.split(base_config.key)\n",
    "programs = vmap(agent_logic.initialize)(jr.split(ku, base_config.n_max_programs))\n",
    "programs = vmap(mutator.initialize)(jr.split(ku, programs.shape[0]), programs)\n",
    "\n",
    "env = st_env"
   ]
  },
  {
   "cell_type": "code",
   "execution_count": 3,
   "metadata": {},
   "outputs": [
    {
     "name": "stdout",
     "output_type": "stream",
     "text": [
      "Traced<ShapedArray(float32[])>with<DynamicJaxprTrace(level=1/0)>\n",
      "Traced<ShapedArray(float32[])>with<DynamicJaxprTrace(level=1/0)>\n"
     ]
    },
    {
     "name": "stderr",
     "output_type": "stream",
     "text": [
      "  0%|          | 0/125 [00:00<?, ?it/s]/home/janneke/anaconda3/envs/NaCo3.10/lib/python3.10/site-packages/jax/_src/ops/scatter.py:96: FutureWarning: scatter inputs have incompatible types: cannot safely cast value from dtype=int32 to dtype=uint32 with jax_numpy_dtype_promotion='standard'. In future JAX releases this will result in an error.\n",
      "  warnings.warn(\n",
      "100%|██████████| 125/125 [00:36<00:00,  3.38it/s]\n"
     ]
    },
    {
     "data": {
      "text/html": [
       "<video src=\"video_baseline.mp4\" controls  >\n",
       "      Your browser does not support the <code>video</code> element.\n",
       "    </video>"
      ],
      "text/plain": [
       "<IPython.core.display.Video object>"
      ]
     },
     "execution_count": 3,
     "metadata": {},
     "output_type": "execute_result"
    }
   ],
   "source": [
    "\n",
    "perform_simulation(env, programs, base_config, env_config, agent_logic, mutator, key)\n",
    "\n",
    "Video(base_config.out_file)"
   ]
  },
  {
   "cell_type": "code",
   "execution_count": 4,
   "metadata": {},
   "outputs": [
    {
     "name": "stdout",
     "output_type": "stream",
     "text": [
      "Extracted 1 programs.\n"
     ]
    },
    {
     "name": "stderr",
     "output_type": "stream",
     "text": [
      "/home/janneke/anaconda3/envs/NaCo3.10/lib/python3.10/site-packages/jax/_src/ops/scatter.py:96: FutureWarning: scatter inputs have incompatible types: cannot safely cast value from dtype=int32 to dtype=uint32 with jax_numpy_dtype_promotion='standard'. In future JAX releases this will result in an error.\n",
      "  warnings.warn(\n"
     ]
    },
    {
     "name": "stdout",
     "output_type": "stream",
     "text": [
      "Took 20.525837182998657 seconds\n",
      "Total number of agents [15009] 15009.0 0.0\n",
      "Extinction events [0] 0.0 0.0\n"
     ]
    }
   ],
   "source": [
    "perform_evaluation(env, programs, st_env, env_config, agent_logic, mutator, base_config)"
   ]
  }
 ],
 "metadata": {
  "kernelspec": {
   "display_name": "NaCo3.10",
   "language": "python",
   "name": "python3"
  },
  "language_info": {
   "codemirror_mode": {
    "name": "ipython",
    "version": 3
   },
   "file_extension": ".py",
   "mimetype": "text/x-python",
   "name": "python",
   "nbconvert_exporter": "python",
   "pygments_lexer": "ipython3",
   "version": "3.10.14"
  }
 },
 "nbformat": 4,
 "nbformat_minor": 2
}

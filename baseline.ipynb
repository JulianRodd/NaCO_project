{
 "cells": [
  {
   "cell_type": "markdown",
   "metadata": {},
   "source": [
    "# Natural Computing Project - BiomakerCA - Simulating Plant Reproducibility "
   ]
  },
  {
   "cell_type": "markdown",
   "metadata": {},
   "source": [
    "### 1. Overrides"
   ]
  },
  {
   "cell_type": "code",
   "execution_count": 4,
   "metadata": {},
   "outputs": [],
   "source": [
    "# Overriding the default environment logic with a custom one\n",
    "import overrides.env_logic_override as env_override\n",
    "import self_organising_systems.biomakerca.env_logic as env_logic\n",
    "env_logic.process_energy = env_override.process_energy\n",
    "\n",
    "\n",
    "# Overriding the default step maker with a custom one\n",
    "import overrides.step_maker_override as step_maker_override\n",
    "import self_organising_systems.biomakerca.step_maker as step_maker\n",
    "step_maker.step_env = step_maker_override.step_env\n",
    "\n"
   ]
  },
  {
   "cell_type": "markdown",
   "metadata": {},
   "source": [
    "### 2. Imports"
   ]
  },
  {
   "cell_type": "code",
   "execution_count": 3,
   "metadata": {},
   "outputs": [],
   "source": [
    "import jax.random as jr\n",
    "import mediapy as media\n",
    "from IPython.display import Video\n",
    "from jax import vmap\n",
    "from self_organising_systems.biomakerca import environments as evm\n",
    "from self_organising_systems.biomakerca.agent_logic import BasicAgentLogic\n",
    "from self_organising_systems.biomakerca.mutators import (\n",
    "    BasicMutator, RandomlyAdaptiveMutator)\n",
    "\n",
    "from biomaker_utils import perform_evaluation, perform_simulation, start_simulation\n",
    "from configs.base_config import BaselineConfig\n",
    "\n"
   ]
  },
  {
   "cell_type": "markdown",
   "metadata": {},
   "source": [
    "### 3. Baseline Configuration"
   ]
  },
  {
   "cell_type": "code",
   "execution_count": 4,
   "metadata": {},
   "outputs": [
    {
     "name": "stdout",
     "output_type": "stream",
     "text": [
      "BasicAgentLogic.dsm_num_params = 0\n",
      "BasicAgentLogic.nsl_num_params = 176\n",
      "BasicAgentLogic.denm_num_params = 80\n",
      "BasicAgentLogic.excl_num_params = 41\n",
      "BasicAgentLogic.repr_num_params = 2\n",
      "BasicAgentLogic.num_params = 299\n",
      "Current config:\n",
      "agent_state_size: 2\n",
      "etd: DefaultTypeDef: {materials_list: ['VOID', 'AIR', 'EARTH', 'IMMOVABLE', 'SUN', 'OUT_OF_BOUNDS'], types: {'VOID': 0, 'AIR': 1, 'EARTH': 2, 'IMMOVABLE': 3, 'SUN': 4, 'OUT_OF_BOUNDS': 5, 'AGENT_UNSPECIALIZED': 6, 'AGENT_ROOT': 7, 'AGENT_LEAF': 8, 'AGENT_FLOWER': 9}, specialization_idxs: {'AGENT_UNSPECIALIZED': 0, 'AGENT_ROOT': 1, 'AGENT_LEAF': 2, 'AGENT_FLOWER': 3}, agent_types: [6 7 8 9], intangible_mats: [0 1], gravity_mats: [2 6 7 8 9], structural_mats: [6 7 8 9], propagate_structure_mats: [2 3 6 7 8 9], agent_spawnable_mats: [0 1 2], structure_decay_mats: [-1 -1  1  0 -1 -1  5  5  5  5], aging_mats: [6 7 8 9], dissipation_rate_per_spec: [[0.5 0.5],  [1.  1. ],  [1.  1. ],  [1.2 1.2]]}\n",
      "env_state_size: 6\n",
      "struct_integrity_cap: 200\n",
      "absorbtion_amounts: [0.25 0.25]\n",
      "dissipation_per_step: [0.01 0.01]\n",
      "spawn_cost: [0.75 0.75]\n",
      "reproduce_cost: [1. 1.]\n",
      "specialize_cost: [0.02 0.02]\n",
      "reproduce_min_dist: 15\n",
      "reproduce_max_dist: 35\n",
      "n_reproduce_per_step: 2\n",
      "nutrient_cap: [10. 10.]\n",
      "material_nutrient_cap: [10. 10.]\n",
      "max_lifetime: 10000\n",
      "soil_unbalance_limit: 0\n"
     ]
    }
   ],
   "source": [
    "base_config = BaselineConfig()\n",
    "\n",
    "st_env, env_config = evm.get_env_and_config(base_config.ec_id, width_type=base_config.env_width_type)\n",
    "env_config.soil_unbalance_limit = base_config.soil_unbalance_limit\n",
    "agent_logic = BasicAgentLogic(env_config, minimal_net=base_config.agent_model == \"minimal\")\n",
    "\n",
    "sd = 1e-2 if base_config.mutator_type == \"basic\" and base_config.agent_model == \"basic\" else 1e-3\n",
    "mutator = (\n",
    "    BasicMutator(sd=sd, change_perc=0.2)\n",
    "    if base_config.mutator_type == \"basic\"\n",
    "    else RandomlyAdaptiveMutator(init_sd=sd, change_perc=0.2)\n",
    ")\n",
    "\n",
    "print(\"\\n\\nCurrent config:\")\n",
    "print(\"\\n\".join(\"%s: %s\" % item for item in vars(env_config).items()))\n",
    "\n",
    "ku, key = jr.split(base_config.key)\n",
    "programs = vmap(agent_logic.initialize)(jr.split(ku, base_config.n_max_programs))\n",
    "programs = vmap(mutator.initialize)(jr.split(ku, programs.shape[0]), programs)\n",
    "\n",
    "env = st_env"
   ]
  },
  {
   "cell_type": "code",
   "execution_count": 6,
   "metadata": {},
   "outputs": [
    {
     "ename": "TypeError",
     "evalue": "perform_simulation() missing 1 required positional argument: 'video'",
     "output_type": "error",
     "traceback": [
      "\u001b[0;31m---------------------------------------------------------------------------\u001b[0m",
      "\u001b[0;31mTypeError\u001b[0m                                 Traceback (most recent call last)",
      "Cell \u001b[0;32mIn[6], line 1\u001b[0m\n\u001b[0;32m----> 1\u001b[0m \u001b[43mperform_simulation\u001b[49m\u001b[43m(\u001b[49m\u001b[43menv\u001b[49m\u001b[43m,\u001b[49m\u001b[43m \u001b[49m\u001b[43mprograms\u001b[49m\u001b[43m,\u001b[49m\u001b[43m \u001b[49m\u001b[43mbase_config\u001b[49m\u001b[43m,\u001b[49m\u001b[43m \u001b[49m\u001b[43menv_config\u001b[49m\u001b[43m,\u001b[49m\u001b[43m \u001b[49m\u001b[43magent_logic\u001b[49m\u001b[43m,\u001b[49m\u001b[43m \u001b[49m\u001b[43mmutator\u001b[49m\u001b[43m,\u001b[49m\u001b[43m \u001b[49m\u001b[43mkey\u001b[49m\u001b[43m)\u001b[49m\n\u001b[1;32m      3\u001b[0m Video(base_config\u001b[38;5;241m.\u001b[39mout_file)\n",
      "\u001b[0;31mTypeError\u001b[0m: perform_simulation() missing 1 required positional argument: 'video'"
     ]
    }
   ],
   "source": [
    "### 4. Performing Basic Simulation"
   ]
  },
  {
   "cell_type": "code",
   "execution_count": 4,
   "metadata": {},
   "outputs": [
    {
     "name": "stdout",
     "output_type": "stream",
     "text": [
      "Traced<ShapedArray(float32[])>with<DynamicJaxprTrace(level=1/0)>\n",
      "Traced<ShapedArray(float32[])>with<DynamicJaxprTrace(level=1/0)>\n"
     ]
    },
    {
     "name": "stderr",
     "output_type": "stream",
     "text": [
      "  0%|          | 0/125 [00:00<?, ?it/s]/opt/homebrew/lib/python3.11/site-packages/jax/_src/ops/scatter.py:96: FutureWarning: scatter inputs have incompatible types: cannot safely cast value from dtype=int32 to dtype=uint32 with jax_numpy_dtype_promotion='standard'. In future JAX releases this will result in an error.\n",
      "  warnings.warn(\n",
      "2024-04-25 14:09:39.120760: E external/xla/xla/service/slow_operation_alarm.cc:65] Constant folding an instruction is taking > 1s:\n",
      "\n",
      "  %reduce.73 = f32[72,128,9,6]{3,2,1,0} reduce(f32[1,72,128,9,6]{4,3,2,1,0} %broadcast.30, f32[] %constant.155), dimensions={0}, to_apply=%region_129.7164, metadata={op_name=\"jit(step_env)/jit(main)/reduce_sum[axes=(0,)]\" source_file=\"/Users/julianroddeman/Documents/Repositories/Master/self-organising-systems/src/self-organising-systems/self_organising_systems/biomakerca/env_logic.py\" source_line=390}\n",
      "\n",
      "This isn't necessarily a bug; constant-folding is inherently a trade-off between compilation time and speed at runtime. XLA has some guards that attempt to keep constant folding from taking too long, but fundamentally you'll always be able to come up with an input program that takes a long time.\n",
      "\n",
      "If you'd like to file a bug, run with envvar XLA_FLAGS=--xla_dump_to=/tmp/foo and attach the results.\n",
      "2024-04-25 14:09:39.744365: E external/xla/xla/service/slow_operation_alarm.cc:133] The operation took 1.628634s\n",
      "Constant folding an instruction is taking > 1s:\n",
      "\n",
      "  %reduce.73 = f32[72,128,9,6]{3,2,1,0} reduce(f32[1,72,128,9,6]{4,3,2,1,0} %broadcast.30, f32[] %constant.155), dimensions={0}, to_apply=%region_129.7164, metadata={op_name=\"jit(step_env)/jit(main)/reduce_sum[axes=(0,)]\" source_file=\"/Users/julianroddeman/Documents/Repositories/Master/self-organising-systems/src/self-organising-systems/self_organising_systems/biomakerca/env_logic.py\" source_line=390}\n",
      "\n",
      "This isn't necessarily a bug; constant-folding is inherently a trade-off between compilation time and speed at runtime. XLA has some guards that attempt to keep constant folding from taking too long, but fundamentally you'll always be able to come up with an input program that takes a long time.\n",
      "\n",
      "If you'd like to file a bug, run with envvar XLA_FLAGS=--xla_dump_to=/tmp/foo and attach the results.\n",
      "100%|██████████| 125/125 [00:33<00:00,  3.77it/s]\n"
     ]
    },
    {
     "data": {
      "text/html": [
       "<video src=\"video_baseline.mp4\" controls  >\n",
       "      Your browser does not support the <code>video</code> element.\n",
       "    </video>"
      ],
      "text/plain": [
       "<IPython.core.display.Video object>"
      ]
     },
     "execution_count": 4,
     "metadata": {},
     "output_type": "execute_result"
    }
   ],
   "source": [
    "spring_agent_logic = agent_logic\n",
    "\n",
    "frame = start_simulation(env, base_config, env_config)\n",
    "with media.VideoWriter(\n",
    "\tbase_config.out_file, shape=frame.shape[:2], fps=base_config.fps, crf=18\n",
    ") as video:\n",
    "\tperform_simulation(\n",
    "\t\tenv, programs, base_config, env_config, spring_agent_logic, mutator, key, video, frame\n",
    "\t)\n",
    "\n",
    "Video(base_config.out_file)"
   ]
  },
  {
   "cell_type": "code",
   "execution_count": null,
   "metadata": {},
   "outputs": [],
   "source": [
    "perform_evaluation(env, programs, st_env, env_config, agent_logic, mutator, base_config)"
   ]
  },
  {
   "cell_type": "markdown",
   "metadata": {},
   "source": [
    "### 5. Simulating Seasons"
   ]
  },
  {
   "cell_type": "markdown",
   "metadata": {},
   "source": [
    "#### 5.1 Spring"
   ]
  },
  {
   "cell_type": "code",
   "execution_count": null,
   "metadata": {},
   "outputs": [],
   "source": [
    "spring_agent_logic = agent_logic\n",
    "\n",
    "frame = start_simulation(env, base_config, env_config)\n",
    "with media.VideoWriter(\n",
    "\tbase_config.out_file, shape=frame.shape[:2], fps=base_config.fps, crf=18\n",
    ") as video:\n",
    "\tperform_simulation(\n",
    "\t\tenv, programs, base_config, env_config, spring_agent_logic, mutator, key, video\n",
    "\t)\n",
    "\n",
    "Video(base_config.out_file)"
   ]
  },
  {
   "cell_type": "markdown",
   "metadata": {},
   "source": [
    "#### 5.2 Summer"
   ]
  },
  {
   "cell_type": "code",
   "execution_count": null,
   "metadata": {},
   "outputs": [],
   "source": [
    "summer_agent_logic = agent_logic\n",
    "summer_agent_logic.config.max_lifetime = 100\n",
    "\n",
    "frame = start_simulation(env, base_config, env_config)\n",
    "with media.VideoWriter(\n",
    "\tbase_config.out_file, shape=frame.shape[:2], fps=base_config.fps, crf=18\n",
    ") as video:\n",
    "\tperform_simulation(\n",
    "\t\tenv, programs, base_config, env_config, summer_agent_logic, mutator, key, video\n",
    "\t)\n",
    "\n",
    "Video(base_config.out_file)"
   ]
  },
  {
   "cell_type": "markdown",
   "metadata": {},
   "source": [
    "#### 5.3 Autumn"
   ]
  },
  {
   "cell_type": "code",
   "execution_count": null,
   "metadata": {},
   "outputs": [],
   "source": [
    "autumn_agent_logic = agent_logic\n",
    "summer_agent_logic.config.max_lifetime = 10000\n",
    "\n",
    "\n",
    "frame = start_simulation(env, base_config, env_config)\n",
    "with media.VideoWriter(\n",
    "\tbase_config.out_file, shape=frame.shape[:2], fps=base_config.fps, crf=18\n",
    ") as video:\n",
    "\tperform_simulation(\n",
    "\t\tenv, programs, base_config, env_config, autumn_agent_logic, mutator, key, video\n",
    "\t)\n",
    "\n",
    "Video(base_config.out_file)"
   ]
  },
  {
   "cell_type": "markdown",
   "metadata": {},
   "source": [
    "#### 5.4 Winter"
   ]
  },
  {
   "cell_type": "code",
   "execution_count": null,
   "metadata": {},
   "outputs": [],
   "source": [
    "winter_agent_logic = agent_logic\n",
    "summer_agent_logic.config.max_lifetime = 100\n",
    "\n",
    "frame = start_simulation(env, base_config, env_config)\n",
    "with media.VideoWriter(\n",
    "\tbase_config.out_file, shape=frame.shape[:2], fps=base_config.fps, crf=18\n",
    ") as video:\n",
    "\tperform_simulation(\n",
    "\t\tenv, programs, base_config, env_config, winter_agent_logic, mutator, key, video\n",
    "\t)\n",
    "\n",
    "Video(base_config.out_file)"
   ]
  }
 ],
 "metadata": {
  "kernelspec": {
   "display_name": "NaCo3.10",
   "language": "python",
   "name": "python3"
  },
  "language_info": {
   "codemirror_mode": {
    "name": "ipython",
    "version": 3
   },
   "file_extension": ".py",
   "mimetype": "text/x-python",
   "name": "python",
   "nbconvert_exporter": "python",
   "pygments_lexer": "ipython3",
   "version": "3.11.7"
  }
 },
 "nbformat": 4,
 "nbformat_minor": 2
}

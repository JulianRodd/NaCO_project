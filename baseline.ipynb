{
 "cells": [
  {
   "cell_type": "markdown",
   "metadata": {},
   "source": [
    "# Natural Computing Project - BiomakerCA - Simulating Plant Reproducibility "
   ]
  },
  {
   "cell_type": "markdown",
   "metadata": {},
   "source": [
    "### 1. Overrides"
   ]
  },
  {
   "cell_type": "code",
   "execution_count": 1,
   "metadata": {},
   "outputs": [],
   "source": [
    "# Overriding the default environment logic with a custom one\n",
    "import overrides.env_logic_override as env_override\n",
    "import self_organising_systems.biomakerca.env_logic as env_logic\n",
    "env_logic.process_energy = env_override.process_energy\n",
    "\n",
    "\n",
    "# Overriding the default step maker with a custom one\n",
    "import overrides.step_maker_override as step_maker_override\n",
    "import self_organising_systems.biomakerca.step_maker as step_maker\n",
    "step_maker.step_env = step_maker_override.step_env\n",
    "\n"
   ]
  },
  {
   "cell_type": "markdown",
   "metadata": {},
   "source": [
    "### 2. Imports"
   ]
  },
  {
   "cell_type": "code",
   "execution_count": 2,
   "metadata": {},
   "outputs": [],
   "source": [
    "import jax.random as jr\n",
    "import mediapy as media\n",
    "from IPython.display import Video\n",
    "from jax import vmap\n",
    "from self_organising_systems.biomakerca import environments as evm\n",
    "from self_organising_systems.biomakerca.agent_logic import BasicAgentLogic\n",
    "from self_organising_systems.biomakerca.mutators import (\n",
    "    BasicMutator, RandomlyAdaptiveMutator)\n",
    "\n",
    "from biomaker_utils import perform_evaluation, perform_simulation, start_simulation\n",
    "from configs.base_config import BaselineConfig\n",
    "\n"
   ]
  },
  {
   "cell_type": "markdown",
   "metadata": {},
   "source": [
    "### 3. Baseline Configuration"
   ]
  },
  {
   "cell_type": "code",
   "execution_count": 3,
   "metadata": {},
   "outputs": [
    {
     "name": "stdout",
     "output_type": "stream",
     "text": [
      "BasicAgentLogic.dsm_num_params = 0\n",
      "BasicAgentLogic.nsl_num_params = 176\n",
      "BasicAgentLogic.denm_num_params = 80\n",
      "BasicAgentLogic.excl_num_params = 41\n",
      "BasicAgentLogic.repr_num_params = 2\n",
      "BasicAgentLogic.num_params = 299\n",
      "\n",
      "\n",
      "Current config:\n",
      "agent_state_size: 2\n",
      "etd: DefaultTypeDef: {materials_list: ['VOID', 'AIR', 'EARTH', 'IMMOVABLE', 'SUN', 'OUT_OF_BOUNDS'], types: {'VOID': 0, 'AIR': 1, 'EARTH': 2, 'IMMOVABLE': 3, 'SUN': 4, 'OUT_OF_BOUNDS': 5, 'AGENT_UNSPECIALIZED': 6, 'AGENT_ROOT': 7, 'AGENT_LEAF': 8, 'AGENT_FLOWER': 9}, specialization_idxs: {'AGENT_UNSPECIALIZED': 0, 'AGENT_ROOT': 1, 'AGENT_LEAF': 2, 'AGENT_FLOWER': 3}, agent_types: [6 7 8 9], intangible_mats: [0 1], gravity_mats: [2 6 7 8 9], structural_mats: [6 7 8 9], propagate_structure_mats: [2 3 6 7 8 9], agent_spawnable_mats: [0 1 2], structure_decay_mats: [-1 -1  1  0 -1 -1  5  5  5  5], aging_mats: [6 7 8 9], dissipation_rate_per_spec: [[0.5 0.5],  [1.  1. ],  [1.  1. ],  [1.2 1.2]]}\n",
      "env_state_size: 6\n",
      "struct_integrity_cap: 200\n",
      "absorbtion_amounts: [0.25 0.25]\n",
      "dissipation_per_step: [0.01 0.01]\n",
      "spawn_cost: [0.75 0.75]\n",
      "reproduce_cost: [1. 1.]\n",
      "specialize_cost: [0.02 0.02]\n",
      "reproduce_min_dist: 15\n",
      "reproduce_max_dist: 35\n",
      "n_reproduce_per_step: 2\n",
      "nutrient_cap: [10. 10.]\n",
      "material_nutrient_cap: [10. 10.]\n",
      "max_lifetime: 10000\n",
      "soil_unbalance_limit: 0\n"
     ]
    }
   ],
   "source": [
    "base_config = BaselineConfig()\n",
    "\n",
    "st_env, env_config = evm.get_env_and_config(base_config.ec_id, width_type=base_config.env_width_type)\n",
    "env_config.soil_unbalance_limit = base_config.soil_unbalance_limit\n",
    "agent_logic = BasicAgentLogic(env_config, minimal_net=base_config.agent_model == \"minimal\")\n",
    "\n",
    "sd = 1e-2 if base_config.mutator_type == \"basic\" and base_config.agent_model == \"basic\" else 1e-3\n",
    "mutator = (\n",
    "    BasicMutator(sd=sd, change_perc=0.2)\n",
    "    if base_config.mutator_type == \"basic\"\n",
    "    else RandomlyAdaptiveMutator(init_sd=sd, change_perc=0.2)\n",
    ")\n",
    "\n",
    "print(\"\\n\\nCurrent config:\")\n",
    "print(\"\\n\".join(\"%s: %s\" % item for item in vars(env_config).items()))\n",
    "\n",
    "ku, key = jr.split(base_config.key)\n",
    "programs = vmap(agent_logic.initialize)(jr.split(ku, base_config.n_max_programs))\n",
    "programs = vmap(mutator.initialize)(jr.split(ku, programs.shape[0]), programs)\n",
    "\n",
    "env = st_env"
   ]
  },
  {
   "cell_type": "code",
   "execution_count": 4,
   "metadata": {},
   "outputs": [],
   "source": [
    "### 4. Performing Basic Simulation"
   ]
  },
  {
   "cell_type": "code",
   "execution_count": 5,
   "metadata": {},
   "outputs": [],
   "source": [
    "# spring_agent_logic = agent_logic\n",
    "\n",
    "# frame = start_simulation(env, base_config, env_config)\n",
    "# with media.VideoWriter(\n",
    "# \tbase_config.out_file, shape=frame.shape[:2], fps=base_config.fps, crf=18\n",
    "# ) as video:\n",
    "# \tperform_simulation(\n",
    "# \t\tenv, programs, base_config, env_config, spring_agent_logic, mutator, key, video, frame\n",
    "# \t)\n",
    "\n",
    "# Video(base_config.out_file)"
   ]
  },
  {
   "cell_type": "code",
   "execution_count": 6,
   "metadata": {},
   "outputs": [],
   "source": [
    "# perform_evaluation(env, programs, st_env, env_config, agent_logic, mutator, base_config)"
   ]
  },
  {
   "cell_type": "markdown",
   "metadata": {},
   "source": [
    "### 5. Simulating Seasons"
   ]
  },
  {
   "cell_type": "code",
   "execution_count": 7,
   "metadata": {},
   "outputs": [],
   "source": [
    "APPEND_ALL_SEASONS_IN_ONE_VIDEO = True"
   ]
  },
  {
   "cell_type": "markdown",
   "metadata": {},
   "source": [
    "#### 5.1 Spring"
   ]
  },
  {
   "cell_type": "code",
   "execution_count": 8,
   "metadata": {},
   "outputs": [
    {
     "name": "stdout",
     "output_type": "stream",
     "text": [
      "Traced<ShapedArray(float32[])>with<DynamicJaxprTrace(level=1/0)>\n",
      "Traced<ShapedArray(float32[])>with<DynamicJaxprTrace(level=1/0)>\n"
     ]
    },
    {
     "name": "stderr",
     "output_type": "stream",
     "text": [
      "  0%|          | 0/125 [00:00<?, ?it/s]/home/janneke/anaconda3/envs/NaCo3.10/lib/python3.10/site-packages/jax/_src/ops/scatter.py:96: FutureWarning: scatter inputs have incompatible types: cannot safely cast value from dtype=int32 to dtype=uint32 with jax_numpy_dtype_promotion='standard'. In future JAX releases this will result in an error.\n",
      "  warnings.warn(\n",
      "2024-04-25 15:16:13.216758: E external/xla/xla/service/slow_operation_alarm.cc:65] Constant folding an instruction is taking > 1s:\n",
      "\n",
      "  %reduce.73 = f32[72,128,9,6]{3,2,1,0} reduce(f32[1,72,128,9,6]{4,3,2,1,0} %broadcast.30, f32[] %constant.155), dimensions={0}, to_apply=%region_129.7164, metadata={op_name=\"jit(step_env)/jit(main)/reduce_sum[axes=(0,)]\" source_file=\"/home/janneke/Documents/Master/Natural Computing/NaCO_project/overrides/step_maker_override.py\" source_line=157}\n",
      "\n",
      "This isn't necessarily a bug; constant-folding is inherently a trade-off between compilation time and speed at runtime. XLA has some guards that attempt to keep constant folding from taking too long, but fundamentally you'll always be able to come up with an input program that takes a long time.\n",
      "\n",
      "If you'd like to file a bug, run with envvar XLA_FLAGS=--xla_dump_to=/tmp/foo and attach the results.\n",
      "2024-04-25 15:16:13.252331: E external/xla/xla/service/slow_operation_alarm.cc:133] The operation took 1.035680063s\n",
      "Constant folding an instruction is taking > 1s:\n",
      "\n",
      "  %reduce.73 = f32[72,128,9,6]{3,2,1,0} reduce(f32[1,72,128,9,6]{4,3,2,1,0} %broadcast.30, f32[] %constant.155), dimensions={0}, to_apply=%region_129.7164, metadata={op_name=\"jit(step_env)/jit(main)/reduce_sum[axes=(0,)]\" source_file=\"/home/janneke/Documents/Master/Natural Computing/NaCO_project/overrides/step_maker_override.py\" source_line=157}\n",
      "\n",
      "This isn't necessarily a bug; constant-folding is inherently a trade-off between compilation time and speed at runtime. XLA has some guards that attempt to keep constant folding from taking too long, but fundamentally you'll always be able to come up with an input program that takes a long time.\n",
      "\n",
      "If you'd like to file a bug, run with envvar XLA_FLAGS=--xla_dump_to=/tmp/foo and attach the results.\n",
      "100%|██████████| 125/125 [00:44<00:00,  2.80it/s]\n"
     ]
    }
   ],
   "source": [
    "base_config.AIR_DIFFUSION_RATE = 0.09\n",
    "\n",
    "if not APPEND_ALL_SEASONS_IN_ONE_VIDEO:\n",
    "\tbase_config.out_file = \"spring.mp4\"\n",
    "\n",
    "frame = start_simulation(env, base_config, env_config)\n",
    "with media.VideoWriter(\n",
    "\tbase_config.out_file, shape=frame.shape[:2], fps=base_config.fps, crf=18\n",
    ") as video:\n",
    "\tstep = perform_simulation(\n",
    "\t\tenv, programs, base_config, env_config, agent_logic, mutator, key, video, frame, season=\"Autumn\"\n",
    "\t)\n",
    "\n",
    "if not APPEND_ALL_SEASONS_IN_ONE_VIDEO:\n",
    "\tVideo(base_config.out_file)"
   ]
  },
  {
   "cell_type": "markdown",
   "metadata": {},
   "source": [
    "#### 5.2 Summer"
   ]
  },
  {
   "cell_type": "code",
   "execution_count": 9,
   "metadata": {},
   "outputs": [
    {
     "name": "stderr",
     "output_type": "stream",
     "text": [
      "100%|██████████| 125/125 [00:30<00:00,  4.08it/s]\n"
     ]
    }
   ],
   "source": [
    "base_config.AIR_DIFFUSION_RATE = 0.1\n",
    "\n",
    "if not APPEND_ALL_SEASONS_IN_ONE_VIDEO:\n",
    "\tbase_config.out_file = \"summer.mp4\"\n",
    "\tframe = start_simulation(env, base_config, env_config)\n",
    "with media.VideoWriter(\n",
    "\tbase_config.out_file, shape=frame.shape[:2], fps=base_config.fps, crf=18\n",
    ") as video:\n",
    "\tstep = perform_simulation(\n",
    "\t\tenv, programs, base_config, env_config, agent_logic, mutator, key, video, frame, step = step if APPEND_ALL_SEASONS_IN_ONE_VIDEO else 0, season=\"Summer\"\n",
    "\t)\n",
    "\n",
    "if not APPEND_ALL_SEASONS_IN_ONE_VIDEO:\n",
    "\tVideo(base_config.out_file)"
   ]
  },
  {
   "cell_type": "markdown",
   "metadata": {},
   "source": [
    "#### 5.3 Autumn"
   ]
  },
  {
   "cell_type": "code",
   "execution_count": 10,
   "metadata": {},
   "outputs": [
    {
     "name": "stderr",
     "output_type": "stream",
     "text": [
      "100%|██████████| 125/125 [00:32<00:00,  3.90it/s]\n"
     ]
    }
   ],
   "source": [
    "base_config.AIR_DIFFUSION_RATE = 0.13\n",
    "\n",
    "if not APPEND_ALL_SEASONS_IN_ONE_VIDEO:\n",
    "\tbase_config.out_file = \"autumn.mp4\"\n",
    "\tframe = start_simulation(env, base_config, env_config)\n",
    "with media.VideoWriter(\n",
    "\tbase_config.out_file, shape=frame.shape[:2], fps=base_config.fps, crf=18\n",
    ") as video:\n",
    "\tstep = perform_simulation(\n",
    "\t\tenv, programs, base_config, env_config, agent_logic, mutator, key, video, frame, step = step if APPEND_ALL_SEASONS_IN_ONE_VIDEO else 0, season=\"Autumn\"\n",
    "\t)\n",
    "\n",
    "if not APPEND_ALL_SEASONS_IN_ONE_VIDEO:\n",
    "\tVideo(base_config.out_file)"
   ]
  },
  {
   "cell_type": "markdown",
   "metadata": {},
   "source": [
    "#### 5.4 Winter"
   ]
  },
  {
   "cell_type": "code",
   "execution_count": 11,
   "metadata": {},
   "outputs": [
    {
     "name": "stderr",
     "output_type": "stream",
     "text": [
      " 46%|████▋     | 58/125 [00:16<00:18,  3.60it/s]\n"
     ]
    },
    {
     "ename": "KeyboardInterrupt",
     "evalue": "",
     "output_type": "error",
     "traceback": [
      "\u001b[0;31m---------------------------------------------------------------------------\u001b[0m",
      "\u001b[0;31mKeyboardInterrupt\u001b[0m                         Traceback (most recent call last)",
      "Cell \u001b[0;32mIn[11], line 9\u001b[0m\n\u001b[1;32m      5\u001b[0m \tframe \u001b[38;5;241m=\u001b[39m start_simulation(env, base_config, env_config)\n\u001b[1;32m      6\u001b[0m \u001b[38;5;28;01mwith\u001b[39;00m media\u001b[38;5;241m.\u001b[39mVideoWriter(\n\u001b[1;32m      7\u001b[0m \tbase_config\u001b[38;5;241m.\u001b[39mout_file, shape\u001b[38;5;241m=\u001b[39mframe\u001b[38;5;241m.\u001b[39mshape[:\u001b[38;5;241m2\u001b[39m], fps\u001b[38;5;241m=\u001b[39mbase_config\u001b[38;5;241m.\u001b[39mfps, crf\u001b[38;5;241m=\u001b[39m\u001b[38;5;241m18\u001b[39m\n\u001b[1;32m      8\u001b[0m ) \u001b[38;5;28;01mas\u001b[39;00m video:\n\u001b[0;32m----> 9\u001b[0m \t\u001b[43mperform_simulation\u001b[49m\u001b[43m(\u001b[49m\n\u001b[1;32m     10\u001b[0m \u001b[43m\t\t\u001b[49m\u001b[43menv\u001b[49m\u001b[43m,\u001b[49m\u001b[43m \u001b[49m\u001b[43mprograms\u001b[49m\u001b[43m,\u001b[49m\u001b[43m \u001b[49m\u001b[43mbase_config\u001b[49m\u001b[43m,\u001b[49m\u001b[43m \u001b[49m\u001b[43menv_config\u001b[49m\u001b[43m,\u001b[49m\u001b[43m \u001b[49m\u001b[43magent_logic\u001b[49m\u001b[43m,\u001b[49m\u001b[43m \u001b[49m\u001b[43mmutator\u001b[49m\u001b[43m,\u001b[49m\u001b[43m \u001b[49m\u001b[43mkey\u001b[49m\u001b[43m,\u001b[49m\u001b[43m \u001b[49m\u001b[43mvideo\u001b[49m\u001b[43m,\u001b[49m\u001b[43m \u001b[49m\u001b[43mframe\u001b[49m\u001b[43m,\u001b[49m\u001b[43m \u001b[49m\u001b[43mstep\u001b[49m\u001b[43m \u001b[49m\u001b[38;5;241;43m=\u001b[39;49m\u001b[43m \u001b[49m\u001b[43mstep\u001b[49m\u001b[43m \u001b[49m\u001b[38;5;28;43;01mif\u001b[39;49;00m\u001b[43m \u001b[49m\u001b[43mAPPEND_ALL_SEASONS_IN_ONE_VIDEO\u001b[49m\u001b[43m \u001b[49m\u001b[38;5;28;43;01melse\u001b[39;49;00m\u001b[43m \u001b[49m\u001b[38;5;241;43m0\u001b[39;49m\u001b[43m,\u001b[49m\u001b[43m \u001b[49m\u001b[43mseason\u001b[49m\u001b[38;5;241;43m=\u001b[39;49m\u001b[38;5;124;43m\"\u001b[39;49m\u001b[38;5;124;43mWinter\u001b[39;49m\u001b[38;5;124;43m\"\u001b[39;49m\n\u001b[1;32m     11\u001b[0m \u001b[43m\t\u001b[49m\u001b[43m)\u001b[49m\n\u001b[1;32m     13\u001b[0m Video(base_config\u001b[38;5;241m.\u001b[39mout_file)\n",
      "File \u001b[0;32m~/Documents/Master/Natural Computing/NaCO_project/biomaker_utils.py:78\u001b[0m, in \u001b[0;36mperform_simulation\u001b[0;34m(env, programs, base_config, env_config, agent_logic, mutator, key, video, frame, step, season)\u001b[0m\n\u001b[1;32m     76\u001b[0m step \u001b[38;5;241m+\u001b[39m\u001b[38;5;241m=\u001b[39m \u001b[38;5;241m1\u001b[39m\n\u001b[1;32m     77\u001b[0m key, ku \u001b[38;5;241m=\u001b[39m jr\u001b[38;5;241m.\u001b[39msplit(key)\n\u001b[0;32m---> 78\u001b[0m env, programs \u001b[38;5;241m=\u001b[39m \u001b[43mstep_env\u001b[49m\u001b[43m(\u001b[49m\n\u001b[1;32m     79\u001b[0m \u001b[43m    \u001b[49m\u001b[43mku\u001b[49m\u001b[43m,\u001b[49m\n\u001b[1;32m     80\u001b[0m \u001b[43m    \u001b[49m\u001b[43menv\u001b[49m\u001b[43m,\u001b[49m\n\u001b[1;32m     81\u001b[0m \u001b[43m    \u001b[49m\u001b[43menv_config\u001b[49m\u001b[43m,\u001b[49m\n\u001b[1;32m     82\u001b[0m \u001b[43m    \u001b[49m\u001b[43magent_logic\u001b[49m\u001b[43m,\u001b[49m\n\u001b[1;32m     83\u001b[0m \u001b[43m    \u001b[49m\u001b[43mprograms\u001b[49m\u001b[43m,\u001b[49m\n\u001b[1;32m     84\u001b[0m \u001b[43m    \u001b[49m\u001b[43mdo_reproduction\u001b[49m\u001b[38;5;241;43m=\u001b[39;49m\u001b[38;5;28;43;01mTrue\u001b[39;49;00m\u001b[43m,\u001b[49m\n\u001b[1;32m     85\u001b[0m \u001b[43m    \u001b[49m\u001b[43mmutate_programs\u001b[49m\u001b[38;5;241;43m=\u001b[39;49m\u001b[38;5;28;43;01mTrue\u001b[39;49;00m\u001b[43m,\u001b[49m\n\u001b[1;32m     86\u001b[0m \u001b[43m    \u001b[49m\u001b[43mmutator\u001b[49m\u001b[38;5;241;43m=\u001b[39;49m\u001b[43mmutator\u001b[49m\u001b[43m,\u001b[49m\n\u001b[1;32m     87\u001b[0m \u001b[43m    \u001b[49m\u001b[43msoil_diffusion_rate\u001b[49m\u001b[38;5;241;43m=\u001b[39;49m\u001b[43mbase_config\u001b[49m\u001b[38;5;241;43m.\u001b[39;49m\u001b[43mSOIL_DIFFUSION_RATE\u001b[49m\u001b[43m,\u001b[49m\n\u001b[1;32m     88\u001b[0m \u001b[43m    \u001b[49m\u001b[43mair_diffusion_rate\u001b[49m\u001b[38;5;241;43m=\u001b[39;49m\u001b[43mbase_config\u001b[49m\u001b[38;5;241;43m.\u001b[39;49m\u001b[43mAIR_DIFFUSION_RATE\u001b[49m\u001b[43m,\u001b[49m\n\u001b[1;32m     89\u001b[0m \u001b[43m\u001b[49m\u001b[43m)\u001b[49m\n\u001b[1;32m     90\u001b[0m \u001b[38;5;28;01mif\u001b[39;00m base_config\u001b[38;5;241m.\u001b[39mreplace_if_extinct \u001b[38;5;129;01mand\u001b[39;00m step \u001b[38;5;241m%\u001b[39m \u001b[38;5;241m50\u001b[39m \u001b[38;5;241m==\u001b[39m \u001b[38;5;241m0\u001b[39m:\n\u001b[1;32m     91\u001b[0m     \u001b[38;5;66;03m# check if there is no alive cell.\u001b[39;00m\n\u001b[1;32m     92\u001b[0m     any_alive \u001b[38;5;241m=\u001b[39m jit(\u001b[38;5;28;01mlambda\u001b[39;00m type_grid: evm\u001b[38;5;241m.\u001b[39mis_agent_fn(type_grid)\u001b[38;5;241m.\u001b[39msum() \u001b[38;5;241m>\u001b[39m \u001b[38;5;241m0\u001b[39m)(\n\u001b[1;32m     93\u001b[0m         env\u001b[38;5;241m.\u001b[39mtype_grid\n\u001b[1;32m     94\u001b[0m     )\n",
      "File \u001b[0;32m<string>:1\u001b[0m, in \u001b[0;36m<lambda>\u001b[0;34m(_cls, type_grid, state_grid, agent_id_grid)\u001b[0m\n",
      "\u001b[0;31mKeyboardInterrupt\u001b[0m: "
     ]
    }
   ],
   "source": [
    "base_config.AIR_DIFFUSION_RATE = 0.05\n",
    "\n",
    "if not APPEND_ALL_SEASONS_IN_ONE_VIDEO:\n",
    "\tbase_config.out_file = \"winter.mp4\"\n",
    "\tframe = start_simulation(env, base_config, env_config)\n",
    "with media.VideoWriter(\n",
    "\tbase_config.out_file, shape=frame.shape[:2], fps=base_config.fps, crf=18\n",
    ") as video:\n",
    "\tstep = perform_simulation(\n",
    "\t\tenv, programs, base_config, env_config, agent_logic, mutator, key, video, frame, step = step if APPEND_ALL_SEASONS_IN_ONE_VIDEO else 0, season=\"Winter\"\n",
    "\t)\n",
    "\n",
    "Video(base_config.out_file)"
   ]
  }
 ],
 "metadata": {
  "kernelspec": {
   "display_name": "NaCo3.10",
   "language": "python",
   "name": "python3"
  },
  "language_info": {
   "codemirror_mode": {
    "name": "ipython",
    "version": 3
   },
   "file_extension": ".py",
   "mimetype": "text/x-python",
   "name": "python",
   "nbconvert_exporter": "python",
   "pygments_lexer": "ipython3",
   "version": "3.10.4"
  }
 },
 "nbformat": 4,
 "nbformat_minor": 2
}
